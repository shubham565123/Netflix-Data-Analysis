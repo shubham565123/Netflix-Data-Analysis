{
 "cells": [
  {
   "cell_type": "markdown",
   "id": "4aff93f7",
   "metadata": {},
   "source": [
    "# Problem Statement"
   ]
  },
  {
   "cell_type": "markdown",
   "id": "0b0fda31",
   "metadata": {},
   "source": [
    "Netflix, being a leading global media and video streaming platform with over 222 million subscribers worldwide, aims to leverage data-driven insights to make informed decisions on content production and business growth. The primary goal is to analyze the dataset containing information about movies and TV shows available on Netflix. The objective is to generate actionable insights that will guide Netflix in determining the types of shows and movies to produce and how to strategically expand its business in different countries."
   ]
  },
  {
   "cell_type": "markdown",
   "id": "b2ee9ec1",
   "metadata": {},
   "source": [
    "# Analysing Basic Metrics"
   ]
  },
  {
   "cell_type": "code",
   "execution_count": 292,
   "id": "8e6ae685",
   "metadata": {},
   "outputs": [],
   "source": [
    "# importing python libraries for data analysis and visualization.\n",
    "import numpy as np\n",
    "import pandas as pd\n",
    "import matplotlib.pyplot as plt\n",
    "import seaborn as sns"
   ]
  },
  {
   "cell_type": "code",
   "execution_count": 293,
   "id": "2125593a",
   "metadata": {},
   "outputs": [],
   "source": [
    "netflix_df = pd.read_csv(\"netflix.csv\") #Reading a csv file into pandas dataframe"
   ]
  },
  {
   "cell_type": "code",
   "execution_count": 294,
   "id": "1829e1f2",
   "metadata": {},
   "outputs": [
    {
     "data": {
      "text/html": [
       "<div>\n",
       "<style scoped>\n",
       "    .dataframe tbody tr th:only-of-type {\n",
       "        vertical-align: middle;\n",
       "    }\n",
       "\n",
       "    .dataframe tbody tr th {\n",
       "        vertical-align: top;\n",
       "    }\n",
       "\n",
       "    .dataframe thead th {\n",
       "        text-align: right;\n",
       "    }\n",
       "</style>\n",
       "<table border=\"1\" class=\"dataframe\">\n",
       "  <thead>\n",
       "    <tr style=\"text-align: right;\">\n",
       "      <th></th>\n",
       "      <th>show_id</th>\n",
       "      <th>type</th>\n",
       "      <th>title</th>\n",
       "      <th>director</th>\n",
       "      <th>cast</th>\n",
       "      <th>country</th>\n",
       "      <th>date_added</th>\n",
       "      <th>release_year</th>\n",
       "      <th>rating</th>\n",
       "      <th>duration</th>\n",
       "      <th>listed_in</th>\n",
       "      <th>description</th>\n",
       "    </tr>\n",
       "  </thead>\n",
       "  <tbody>\n",
       "    <tr>\n",
       "      <th>0</th>\n",
       "      <td>s1</td>\n",
       "      <td>Movie</td>\n",
       "      <td>Dick Johnson Is Dead</td>\n",
       "      <td>Kirsten Johnson</td>\n",
       "      <td>NaN</td>\n",
       "      <td>United States</td>\n",
       "      <td>September 25, 2021</td>\n",
       "      <td>2020</td>\n",
       "      <td>PG-13</td>\n",
       "      <td>90 min</td>\n",
       "      <td>Documentaries</td>\n",
       "      <td>As her father nears the end of his life, filmm...</td>\n",
       "    </tr>\n",
       "    <tr>\n",
       "      <th>1</th>\n",
       "      <td>s2</td>\n",
       "      <td>TV Show</td>\n",
       "      <td>Blood &amp; Water</td>\n",
       "      <td>NaN</td>\n",
       "      <td>Ama Qamata, Khosi Ngema, Gail Mabalane, Thaban...</td>\n",
       "      <td>South Africa</td>\n",
       "      <td>September 24, 2021</td>\n",
       "      <td>2021</td>\n",
       "      <td>TV-MA</td>\n",
       "      <td>2 Seasons</td>\n",
       "      <td>International TV Shows, TV Dramas, TV Mysteries</td>\n",
       "      <td>After crossing paths at a party, a Cape Town t...</td>\n",
       "    </tr>\n",
       "    <tr>\n",
       "      <th>2</th>\n",
       "      <td>s3</td>\n",
       "      <td>TV Show</td>\n",
       "      <td>Ganglands</td>\n",
       "      <td>Julien Leclercq</td>\n",
       "      <td>Sami Bouajila, Tracy Gotoas, Samuel Jouy, Nabi...</td>\n",
       "      <td>NaN</td>\n",
       "      <td>September 24, 2021</td>\n",
       "      <td>2021</td>\n",
       "      <td>TV-MA</td>\n",
       "      <td>1 Season</td>\n",
       "      <td>Crime TV Shows, International TV Shows, TV Act...</td>\n",
       "      <td>To protect his family from a powerful drug lor...</td>\n",
       "    </tr>\n",
       "    <tr>\n",
       "      <th>3</th>\n",
       "      <td>s4</td>\n",
       "      <td>TV Show</td>\n",
       "      <td>Jailbirds New Orleans</td>\n",
       "      <td>NaN</td>\n",
       "      <td>NaN</td>\n",
       "      <td>NaN</td>\n",
       "      <td>September 24, 2021</td>\n",
       "      <td>2021</td>\n",
       "      <td>TV-MA</td>\n",
       "      <td>1 Season</td>\n",
       "      <td>Docuseries, Reality TV</td>\n",
       "      <td>Feuds, flirtations and toilet talk go down amo...</td>\n",
       "    </tr>\n",
       "    <tr>\n",
       "      <th>4</th>\n",
       "      <td>s5</td>\n",
       "      <td>TV Show</td>\n",
       "      <td>Kota Factory</td>\n",
       "      <td>NaN</td>\n",
       "      <td>Mayur More, Jitendra Kumar, Ranjan Raj, Alam K...</td>\n",
       "      <td>India</td>\n",
       "      <td>September 24, 2021</td>\n",
       "      <td>2021</td>\n",
       "      <td>TV-MA</td>\n",
       "      <td>2 Seasons</td>\n",
       "      <td>International TV Shows, Romantic TV Shows, TV ...</td>\n",
       "      <td>In a city of coaching centers known to train I...</td>\n",
       "    </tr>\n",
       "  </tbody>\n",
       "</table>\n",
       "</div>"
      ],
      "text/plain": [
       "  show_id     type                  title         director  \\\n",
       "0      s1    Movie   Dick Johnson Is Dead  Kirsten Johnson   \n",
       "1      s2  TV Show          Blood & Water              NaN   \n",
       "2      s3  TV Show              Ganglands  Julien Leclercq   \n",
       "3      s4  TV Show  Jailbirds New Orleans              NaN   \n",
       "4      s5  TV Show           Kota Factory              NaN   \n",
       "\n",
       "                                                cast        country  \\\n",
       "0                                                NaN  United States   \n",
       "1  Ama Qamata, Khosi Ngema, Gail Mabalane, Thaban...   South Africa   \n",
       "2  Sami Bouajila, Tracy Gotoas, Samuel Jouy, Nabi...            NaN   \n",
       "3                                                NaN            NaN   \n",
       "4  Mayur More, Jitendra Kumar, Ranjan Raj, Alam K...          India   \n",
       "\n",
       "           date_added  release_year rating   duration  \\\n",
       "0  September 25, 2021          2020  PG-13     90 min   \n",
       "1  September 24, 2021          2021  TV-MA  2 Seasons   \n",
       "2  September 24, 2021          2021  TV-MA   1 Season   \n",
       "3  September 24, 2021          2021  TV-MA   1 Season   \n",
       "4  September 24, 2021          2021  TV-MA  2 Seasons   \n",
       "\n",
       "                                           listed_in  \\\n",
       "0                                      Documentaries   \n",
       "1    International TV Shows, TV Dramas, TV Mysteries   \n",
       "2  Crime TV Shows, International TV Shows, TV Act...   \n",
       "3                             Docuseries, Reality TV   \n",
       "4  International TV Shows, Romantic TV Shows, TV ...   \n",
       "\n",
       "                                         description  \n",
       "0  As her father nears the end of his life, filmm...  \n",
       "1  After crossing paths at a party, a Cape Town t...  \n",
       "2  To protect his family from a powerful drug lor...  \n",
       "3  Feuds, flirtations and toilet talk go down amo...  \n",
       "4  In a city of coaching centers known to train I...  "
      ]
     },
     "execution_count": 294,
     "metadata": {},
     "output_type": "execute_result"
    }
   ],
   "source": [
    "netflix_df.head()"
   ]
  },
  {
   "cell_type": "markdown",
   "id": "1dc6341d",
   "metadata": {},
   "source": [
    "#  Observations and Conversion"
   ]
  },
  {
   "cell_type": "code",
   "execution_count": 295,
   "id": "cbe1410d",
   "metadata": {},
   "outputs": [
    {
     "data": {
      "text/plain": [
       "(8807, 12)"
      ]
     },
     "execution_count": 295,
     "metadata": {},
     "output_type": "execute_result"
    }
   ],
   "source": [
    "netflix_df.shape"
   ]
  },
  {
   "cell_type": "code",
   "execution_count": 296,
   "id": "101bf594",
   "metadata": {},
   "outputs": [
    {
     "name": "stdout",
     "output_type": "stream",
     "text": [
      "<class 'pandas.core.frame.DataFrame'>\n",
      "RangeIndex: 8807 entries, 0 to 8806\n",
      "Data columns (total 12 columns):\n",
      " #   Column        Non-Null Count  Dtype \n",
      "---  ------        --------------  ----- \n",
      " 0   show_id       8807 non-null   object\n",
      " 1   type          8807 non-null   object\n",
      " 2   title         8807 non-null   object\n",
      " 3   director      6173 non-null   object\n",
      " 4   cast          7982 non-null   object\n",
      " 5   country       7976 non-null   object\n",
      " 6   date_added    8797 non-null   object\n",
      " 7   release_year  8807 non-null   int64 \n",
      " 8   rating        8803 non-null   object\n",
      " 9   duration      8804 non-null   object\n",
      " 10  listed_in     8807 non-null   object\n",
      " 11  description   8807 non-null   object\n",
      "dtypes: int64(1), object(11)\n",
      "memory usage: 825.8+ KB\n"
     ]
    }
   ],
   "source": [
    "netflix_df.info()"
   ]
  },
  {
   "cell_type": "code",
   "execution_count": 297,
   "id": "9b35dad9",
   "metadata": {},
   "outputs": [],
   "source": [
    "#There are total 8807 rows and 12 columns in the dataset \n",
    "#We can clearly see that there is only one numberical column \"release_year\", \n",
    "#but its not useful for analysing statistical summary.\n",
    "#Total 12 columns in the dataset, 11 of them of object datatype and 1 of integer datatype."
   ]
  },
  {
   "cell_type": "code",
   "execution_count": 298,
   "id": "7450d7a7",
   "metadata": {},
   "outputs": [],
   "source": [
    "netflix_df['date_added'] = netflix_df['date_added'].str.strip()\n",
    "netflix_df['date_added'] = pd.to_datetime(netflix_df['date_added'], format=\"%B %d, %Y\") #conversion from object to datetime datatype"
   ]
  },
  {
   "cell_type": "code",
   "execution_count": 299,
   "id": "f48883b6",
   "metadata": {},
   "outputs": [],
   "source": [
    "netflix_df['duration'] = netflix_df['duration'].str.extract('(\\d+)') #exctracting numerical values of duration.\n",
    "netflix_df['duration'] = pd.to_numeric(netflix_df['duration'], errors='coerce')"
   ]
  },
  {
   "cell_type": "code",
   "execution_count": 300,
   "id": "018c3d7a",
   "metadata": {},
   "outputs": [
    {
     "name": "stdout",
     "output_type": "stream",
     "text": [
      "<class 'pandas.core.frame.DataFrame'>\n",
      "RangeIndex: 8807 entries, 0 to 8806\n",
      "Data columns (total 12 columns):\n",
      " #   Column        Non-Null Count  Dtype         \n",
      "---  ------        --------------  -----         \n",
      " 0   show_id       8807 non-null   object        \n",
      " 1   type          8807 non-null   object        \n",
      " 2   title         8807 non-null   object        \n",
      " 3   director      6173 non-null   object        \n",
      " 4   cast          7982 non-null   object        \n",
      " 5   country       7976 non-null   object        \n",
      " 6   date_added    8797 non-null   datetime64[ns]\n",
      " 7   release_year  8807 non-null   int64         \n",
      " 8   rating        8803 non-null   object        \n",
      " 9   duration      8804 non-null   float64       \n",
      " 10  listed_in     8807 non-null   object        \n",
      " 11  description   8807 non-null   object        \n",
      "dtypes: datetime64[ns](1), float64(1), int64(1), object(9)\n",
      "memory usage: 825.8+ KB\n"
     ]
    }
   ],
   "source": [
    "netflix_df.info()"
   ]
  },
  {
   "cell_type": "code",
   "execution_count": 301,
   "id": "55920d50",
   "metadata": {},
   "outputs": [],
   "source": [
    "df = netflix_df #Nested dataframe "
   ]
  },
  {
   "cell_type": "code",
   "execution_count": 302,
   "id": "3e7f6872",
   "metadata": {},
   "outputs": [],
   "source": [
    "#Converted date_added column to datetime datatype to get valuable insights.\n",
    "#No need to convert realease_year to datetime as its already an integer and typically contains years."
   ]
  },
  {
   "cell_type": "code",
   "execution_count": 303,
   "id": "b7784b7a",
   "metadata": {},
   "outputs": [],
   "source": [
    "#Unnesting columns"
   ]
  },
  {
   "cell_type": "code",
   "execution_count": 304,
   "id": "6a02779c",
   "metadata": {},
   "outputs": [
    {
     "data": {
      "text/html": [
       "<div>\n",
       "<style scoped>\n",
       "    .dataframe tbody tr th:only-of-type {\n",
       "        vertical-align: middle;\n",
       "    }\n",
       "\n",
       "    .dataframe tbody tr th {\n",
       "        vertical-align: top;\n",
       "    }\n",
       "\n",
       "    .dataframe thead th {\n",
       "        text-align: right;\n",
       "    }\n",
       "</style>\n",
       "<table border=\"1\" class=\"dataframe\">\n",
       "  <thead>\n",
       "    <tr style=\"text-align: right;\">\n",
       "      <th></th>\n",
       "      <th>show_id</th>\n",
       "      <th>type</th>\n",
       "      <th>title</th>\n",
       "      <th>director</th>\n",
       "      <th>cast</th>\n",
       "      <th>country</th>\n",
       "      <th>date_added</th>\n",
       "      <th>release_year</th>\n",
       "      <th>rating</th>\n",
       "      <th>duration</th>\n",
       "      <th>listed_in</th>\n",
       "      <th>description</th>\n",
       "    </tr>\n",
       "  </thead>\n",
       "  <tbody>\n",
       "    <tr>\n",
       "      <th>0</th>\n",
       "      <td>s1</td>\n",
       "      <td>Movie</td>\n",
       "      <td>Dick Johnson Is Dead</td>\n",
       "      <td>Kirsten Johnson</td>\n",
       "      <td>NaN</td>\n",
       "      <td>United States</td>\n",
       "      <td>2021-09-25</td>\n",
       "      <td>2020</td>\n",
       "      <td>PG-13</td>\n",
       "      <td>90.0</td>\n",
       "      <td>Documentaries</td>\n",
       "      <td>As her father nears the end of his life, filmm...</td>\n",
       "    </tr>\n",
       "    <tr>\n",
       "      <th>1</th>\n",
       "      <td>s2</td>\n",
       "      <td>TV Show</td>\n",
       "      <td>Blood &amp; Water</td>\n",
       "      <td>NaN</td>\n",
       "      <td>Ama Qamata, Khosi Ngema, Gail Mabalane, Thaban...</td>\n",
       "      <td>South Africa</td>\n",
       "      <td>2021-09-24</td>\n",
       "      <td>2021</td>\n",
       "      <td>TV-MA</td>\n",
       "      <td>2.0</td>\n",
       "      <td>International TV Shows, TV Dramas, TV Mysteries</td>\n",
       "      <td>After crossing paths at a party, a Cape Town t...</td>\n",
       "    </tr>\n",
       "    <tr>\n",
       "      <th>2</th>\n",
       "      <td>s3</td>\n",
       "      <td>TV Show</td>\n",
       "      <td>Ganglands</td>\n",
       "      <td>Julien Leclercq</td>\n",
       "      <td>Sami Bouajila, Tracy Gotoas, Samuel Jouy, Nabi...</td>\n",
       "      <td>NaN</td>\n",
       "      <td>2021-09-24</td>\n",
       "      <td>2021</td>\n",
       "      <td>TV-MA</td>\n",
       "      <td>1.0</td>\n",
       "      <td>Crime TV Shows, International TV Shows, TV Act...</td>\n",
       "      <td>To protect his family from a powerful drug lor...</td>\n",
       "    </tr>\n",
       "    <tr>\n",
       "      <th>3</th>\n",
       "      <td>s4</td>\n",
       "      <td>TV Show</td>\n",
       "      <td>Jailbirds New Orleans</td>\n",
       "      <td>NaN</td>\n",
       "      <td>NaN</td>\n",
       "      <td>NaN</td>\n",
       "      <td>2021-09-24</td>\n",
       "      <td>2021</td>\n",
       "      <td>TV-MA</td>\n",
       "      <td>1.0</td>\n",
       "      <td>Docuseries, Reality TV</td>\n",
       "      <td>Feuds, flirtations and toilet talk go down amo...</td>\n",
       "    </tr>\n",
       "    <tr>\n",
       "      <th>4</th>\n",
       "      <td>s5</td>\n",
       "      <td>TV Show</td>\n",
       "      <td>Kota Factory</td>\n",
       "      <td>NaN</td>\n",
       "      <td>Mayur More, Jitendra Kumar, Ranjan Raj, Alam K...</td>\n",
       "      <td>India</td>\n",
       "      <td>2021-09-24</td>\n",
       "      <td>2021</td>\n",
       "      <td>TV-MA</td>\n",
       "      <td>2.0</td>\n",
       "      <td>International TV Shows, Romantic TV Shows, TV ...</td>\n",
       "      <td>In a city of coaching centers known to train I...</td>\n",
       "    </tr>\n",
       "  </tbody>\n",
       "</table>\n",
       "</div>"
      ],
      "text/plain": [
       "  show_id     type                  title         director  \\\n",
       "0      s1    Movie   Dick Johnson Is Dead  Kirsten Johnson   \n",
       "1      s2  TV Show          Blood & Water              NaN   \n",
       "2      s3  TV Show              Ganglands  Julien Leclercq   \n",
       "3      s4  TV Show  Jailbirds New Orleans              NaN   \n",
       "4      s5  TV Show           Kota Factory              NaN   \n",
       "\n",
       "                                                cast        country  \\\n",
       "0                                                NaN  United States   \n",
       "1  Ama Qamata, Khosi Ngema, Gail Mabalane, Thaban...   South Africa   \n",
       "2  Sami Bouajila, Tracy Gotoas, Samuel Jouy, Nabi...            NaN   \n",
       "3                                                NaN            NaN   \n",
       "4  Mayur More, Jitendra Kumar, Ranjan Raj, Alam K...          India   \n",
       "\n",
       "  date_added  release_year rating  duration  \\\n",
       "0 2021-09-25          2020  PG-13      90.0   \n",
       "1 2021-09-24          2021  TV-MA       2.0   \n",
       "2 2021-09-24          2021  TV-MA       1.0   \n",
       "3 2021-09-24          2021  TV-MA       1.0   \n",
       "4 2021-09-24          2021  TV-MA       2.0   \n",
       "\n",
       "                                           listed_in  \\\n",
       "0                                      Documentaries   \n",
       "1    International TV Shows, TV Dramas, TV Mysteries   \n",
       "2  Crime TV Shows, International TV Shows, TV Act...   \n",
       "3                             Docuseries, Reality TV   \n",
       "4  International TV Shows, Romantic TV Shows, TV ...   \n",
       "\n",
       "                                         description  \n",
       "0  As her father nears the end of his life, filmm...  \n",
       "1  After crossing paths at a party, a Cape Town t...  \n",
       "2  To protect his family from a powerful drug lor...  \n",
       "3  Feuds, flirtations and toilet talk go down amo...  \n",
       "4  In a city of coaching centers known to train I...  "
      ]
     },
     "execution_count": 304,
     "metadata": {},
     "output_type": "execute_result"
    }
   ],
   "source": [
    "netflix_df.head()"
   ]
  },
  {
   "cell_type": "code",
   "execution_count": 305,
   "id": "bf59a520",
   "metadata": {},
   "outputs": [
    {
     "data": {
      "text/plain": [
       "(186399, 12)"
      ]
     },
     "execution_count": 305,
     "metadata": {},
     "output_type": "execute_result"
    }
   ],
   "source": [
    "df1 = netflix_df[['title', 'cast']]\n",
    "\n",
    "df1 = df1.assign(cast=netflix_df['cast'].str.split(',')).explode('cast')\n",
    "\n",
    "\n",
    "df2 = netflix_df[['title', 'country']]\n",
    "\n",
    "df2 = df2.assign(country=netflix_df['country'].str.split(',')).explode('country')\n",
    "\n",
    "\n",
    "df3 = netflix_df[['title', 'listed_in']]\n",
    "\n",
    "df3 = df3.assign(listed_in=netflix_df['listed_in'].str.split(',')).explode('listed_in')\n",
    "\n",
    "\n",
    "df12 = df1.merge(df2, on='title')\n",
    "\n",
    "\n",
    "df123 = df12.merge(df3, on='title')\n",
    "\n",
    "\n",
    "netflix_df = netflix_df.drop(['cast', 'country', 'listed_in'], axis=1)\n",
    "\n",
    "\n",
    "df_final = netflix_df.merge(df123, on='title')\n",
    "\n",
    "df_final.shape"
   ]
  },
  {
   "cell_type": "code",
   "execution_count": 306,
   "id": "511f7b98",
   "metadata": {},
   "outputs": [],
   "source": [
    "data = df_final #Unnested dataframe"
   ]
  },
  {
   "cell_type": "code",
   "execution_count": 307,
   "id": "518740f5",
   "metadata": {},
   "outputs": [
    {
     "data": {
      "text/html": [
       "<div>\n",
       "<style scoped>\n",
       "    .dataframe tbody tr th:only-of-type {\n",
       "        vertical-align: middle;\n",
       "    }\n",
       "\n",
       "    .dataframe tbody tr th {\n",
       "        vertical-align: top;\n",
       "    }\n",
       "\n",
       "    .dataframe thead th {\n",
       "        text-align: right;\n",
       "    }\n",
       "</style>\n",
       "<table border=\"1\" class=\"dataframe\">\n",
       "  <thead>\n",
       "    <tr style=\"text-align: right;\">\n",
       "      <th></th>\n",
       "      <th>show_id</th>\n",
       "      <th>type</th>\n",
       "      <th>title</th>\n",
       "      <th>director</th>\n",
       "      <th>date_added</th>\n",
       "      <th>release_year</th>\n",
       "      <th>rating</th>\n",
       "      <th>duration</th>\n",
       "      <th>description</th>\n",
       "      <th>cast</th>\n",
       "      <th>country</th>\n",
       "      <th>listed_in</th>\n",
       "    </tr>\n",
       "  </thead>\n",
       "  <tbody>\n",
       "    <tr>\n",
       "      <th>0</th>\n",
       "      <td>s1</td>\n",
       "      <td>Movie</td>\n",
       "      <td>Dick Johnson Is Dead</td>\n",
       "      <td>Kirsten Johnson</td>\n",
       "      <td>2021-09-25</td>\n",
       "      <td>2020</td>\n",
       "      <td>PG-13</td>\n",
       "      <td>90.0</td>\n",
       "      <td>As her father nears the end of his life, filmm...</td>\n",
       "      <td>NaN</td>\n",
       "      <td>United States</td>\n",
       "      <td>Documentaries</td>\n",
       "    </tr>\n",
       "    <tr>\n",
       "      <th>1</th>\n",
       "      <td>s2</td>\n",
       "      <td>TV Show</td>\n",
       "      <td>Blood &amp; Water</td>\n",
       "      <td>NaN</td>\n",
       "      <td>2021-09-24</td>\n",
       "      <td>2021</td>\n",
       "      <td>TV-MA</td>\n",
       "      <td>2.0</td>\n",
       "      <td>After crossing paths at a party, a Cape Town t...</td>\n",
       "      <td>Ama Qamata</td>\n",
       "      <td>South Africa</td>\n",
       "      <td>International TV Shows</td>\n",
       "    </tr>\n",
       "    <tr>\n",
       "      <th>2</th>\n",
       "      <td>s2</td>\n",
       "      <td>TV Show</td>\n",
       "      <td>Blood &amp; Water</td>\n",
       "      <td>NaN</td>\n",
       "      <td>2021-09-24</td>\n",
       "      <td>2021</td>\n",
       "      <td>TV-MA</td>\n",
       "      <td>2.0</td>\n",
       "      <td>After crossing paths at a party, a Cape Town t...</td>\n",
       "      <td>Ama Qamata</td>\n",
       "      <td>South Africa</td>\n",
       "      <td>TV Dramas</td>\n",
       "    </tr>\n",
       "    <tr>\n",
       "      <th>3</th>\n",
       "      <td>s2</td>\n",
       "      <td>TV Show</td>\n",
       "      <td>Blood &amp; Water</td>\n",
       "      <td>NaN</td>\n",
       "      <td>2021-09-24</td>\n",
       "      <td>2021</td>\n",
       "      <td>TV-MA</td>\n",
       "      <td>2.0</td>\n",
       "      <td>After crossing paths at a party, a Cape Town t...</td>\n",
       "      <td>Ama Qamata</td>\n",
       "      <td>South Africa</td>\n",
       "      <td>TV Mysteries</td>\n",
       "    </tr>\n",
       "    <tr>\n",
       "      <th>4</th>\n",
       "      <td>s2</td>\n",
       "      <td>TV Show</td>\n",
       "      <td>Blood &amp; Water</td>\n",
       "      <td>NaN</td>\n",
       "      <td>2021-09-24</td>\n",
       "      <td>2021</td>\n",
       "      <td>TV-MA</td>\n",
       "      <td>2.0</td>\n",
       "      <td>After crossing paths at a party, a Cape Town t...</td>\n",
       "      <td>Khosi Ngema</td>\n",
       "      <td>South Africa</td>\n",
       "      <td>International TV Shows</td>\n",
       "    </tr>\n",
       "  </tbody>\n",
       "</table>\n",
       "</div>"
      ],
      "text/plain": [
       "  show_id     type                 title         director date_added  \\\n",
       "0      s1    Movie  Dick Johnson Is Dead  Kirsten Johnson 2021-09-25   \n",
       "1      s2  TV Show         Blood & Water              NaN 2021-09-24   \n",
       "2      s2  TV Show         Blood & Water              NaN 2021-09-24   \n",
       "3      s2  TV Show         Blood & Water              NaN 2021-09-24   \n",
       "4      s2  TV Show         Blood & Water              NaN 2021-09-24   \n",
       "\n",
       "   release_year rating  duration  \\\n",
       "0          2020  PG-13      90.0   \n",
       "1          2021  TV-MA       2.0   \n",
       "2          2021  TV-MA       2.0   \n",
       "3          2021  TV-MA       2.0   \n",
       "4          2021  TV-MA       2.0   \n",
       "\n",
       "                                         description          cast  \\\n",
       "0  As her father nears the end of his life, filmm...           NaN   \n",
       "1  After crossing paths at a party, a Cape Town t...    Ama Qamata   \n",
       "2  After crossing paths at a party, a Cape Town t...    Ama Qamata   \n",
       "3  After crossing paths at a party, a Cape Town t...    Ama Qamata   \n",
       "4  After crossing paths at a party, a Cape Town t...   Khosi Ngema   \n",
       "\n",
       "         country               listed_in  \n",
       "0  United States           Documentaries  \n",
       "1   South Africa  International TV Shows  \n",
       "2   South Africa               TV Dramas  \n",
       "3   South Africa            TV Mysteries  \n",
       "4   South Africa  International TV Shows  "
      ]
     },
     "execution_count": 307,
     "metadata": {},
     "output_type": "execute_result"
    }
   ],
   "source": [
    "data.head()"
   ]
  },
  {
   "cell_type": "code",
   "execution_count": 308,
   "id": "be8693ea",
   "metadata": {},
   "outputs": [
    {
     "name": "stdout",
     "output_type": "stream",
     "text": [
      "<class 'pandas.core.frame.DataFrame'>\n",
      "RangeIndex: 186399 entries, 0 to 186398\n",
      "Data columns (total 12 columns):\n",
      " #   Column        Non-Null Count   Dtype         \n",
      "---  ------        --------------   -----         \n",
      " 0   show_id       186399 non-null  object        \n",
      " 1   type          186399 non-null  object        \n",
      " 2   title         186399 non-null  object        \n",
      " 3   director      135756 non-null  object        \n",
      " 4   date_added    186241 non-null  datetime64[ns]\n",
      " 5   release_year  186399 non-null  int64         \n",
      " 6   rating        186332 non-null  object        \n",
      " 7   duration      186396 non-null  float64       \n",
      " 8   description   186399 non-null  object        \n",
      " 9   cast          184551 non-null  object        \n",
      " 10  country       175254 non-null  object        \n",
      " 11  listed_in     186399 non-null  object        \n",
      "dtypes: datetime64[ns](1), float64(1), int64(1), object(9)\n",
      "memory usage: 17.1+ MB\n"
     ]
    }
   ],
   "source": [
    "data.info()"
   ]
  },
  {
   "cell_type": "code",
   "execution_count": 309,
   "id": "de95d4a5",
   "metadata": {},
   "outputs": [
    {
     "data": {
      "text/plain": [
       "show_id             0\n",
       "type                0\n",
       "title               0\n",
       "director        50643\n",
       "date_added        158\n",
       "release_year        0\n",
       "rating             67\n",
       "duration            3\n",
       "description         0\n",
       "cast             1848\n",
       "country         11145\n",
       "listed_in           0\n",
       "dtype: int64"
      ]
     },
     "execution_count": 309,
     "metadata": {},
     "output_type": "execute_result"
    }
   ],
   "source": [
    "# Missing value detection\n",
    "data.isnull().sum()"
   ]
  },
  {
   "cell_type": "code",
   "execution_count": 310,
   "id": "332167e0",
   "metadata": {},
   "outputs": [
    {
     "data": {
      "text/plain": [
       "0"
      ]
     },
     "execution_count": 310,
     "metadata": {},
     "output_type": "execute_result"
    }
   ],
   "source": [
    "#Solving Missing value columns\n",
    "data['director'] = data['director'].fillna('Unknown director')\n",
    "\n",
    "data['cast'] = data['cast'].fillna('Unknown actor')\n",
    "\n",
    "data['country'] = data['country'].fillna('Unknown country')\n",
    "\n",
    "data = data.dropna(subset = ['date_added', 'duration', 'rating'])\n",
    "\n",
    "data.isnull().sum().sum()"
   ]
  },
  {
   "cell_type": "code",
   "execution_count": 311,
   "id": "309d6ceb",
   "metadata": {},
   "outputs": [
    {
     "data": {
      "text/html": [
       "<div>\n",
       "<style scoped>\n",
       "    .dataframe tbody tr th:only-of-type {\n",
       "        vertical-align: middle;\n",
       "    }\n",
       "\n",
       "    .dataframe tbody tr th {\n",
       "        vertical-align: top;\n",
       "    }\n",
       "\n",
       "    .dataframe thead th {\n",
       "        text-align: right;\n",
       "    }\n",
       "</style>\n",
       "<table border=\"1\" class=\"dataframe\">\n",
       "  <thead>\n",
       "    <tr style=\"text-align: right;\">\n",
       "      <th></th>\n",
       "      <th>date_added</th>\n",
       "      <th>release_year</th>\n",
       "      <th>duration</th>\n",
       "    </tr>\n",
       "  </thead>\n",
       "  <tbody>\n",
       "    <tr>\n",
       "      <th>count</th>\n",
       "      <td>186171</td>\n",
       "      <td>186171.000000</td>\n",
       "      <td>186171.000000</td>\n",
       "    </tr>\n",
       "    <tr>\n",
       "      <th>mean</th>\n",
       "      <td>2019-06-28 14:37:37.447185664</td>\n",
       "      <td>2013.424889</td>\n",
       "      <td>76.760736</td>\n",
       "    </tr>\n",
       "    <tr>\n",
       "      <th>min</th>\n",
       "      <td>2008-01-01 00:00:00</td>\n",
       "      <td>1925.000000</td>\n",
       "      <td>1.000000</td>\n",
       "    </tr>\n",
       "    <tr>\n",
       "      <th>25%</th>\n",
       "      <td>2018-07-03 00:00:00</td>\n",
       "      <td>2012.000000</td>\n",
       "      <td>3.000000</td>\n",
       "    </tr>\n",
       "    <tr>\n",
       "      <th>50%</th>\n",
       "      <td>2019-09-24 00:00:00</td>\n",
       "      <td>2016.000000</td>\n",
       "      <td>95.000000</td>\n",
       "    </tr>\n",
       "    <tr>\n",
       "      <th>75%</th>\n",
       "      <td>2020-09-16 00:00:00</td>\n",
       "      <td>2019.000000</td>\n",
       "      <td>112.000000</td>\n",
       "    </tr>\n",
       "    <tr>\n",
       "      <th>max</th>\n",
       "      <td>2021-09-25 00:00:00</td>\n",
       "      <td>2021.000000</td>\n",
       "      <td>312.000000</td>\n",
       "    </tr>\n",
       "    <tr>\n",
       "      <th>std</th>\n",
       "      <td>NaN</td>\n",
       "      <td>9.053024</td>\n",
       "      <td>52.267785</td>\n",
       "    </tr>\n",
       "  </tbody>\n",
       "</table>\n",
       "</div>"
      ],
      "text/plain": [
       "                          date_added   release_year       duration\n",
       "count                         186171  186171.000000  186171.000000\n",
       "mean   2019-06-28 14:37:37.447185664    2013.424889      76.760736\n",
       "min              2008-01-01 00:00:00    1925.000000       1.000000\n",
       "25%              2018-07-03 00:00:00    2012.000000       3.000000\n",
       "50%              2019-09-24 00:00:00    2016.000000      95.000000\n",
       "75%              2020-09-16 00:00:00    2019.000000     112.000000\n",
       "max              2021-09-25 00:00:00    2021.000000     312.000000\n",
       "std                              NaN       9.053024      52.267785"
      ]
     },
     "execution_count": 311,
     "metadata": {},
     "output_type": "execute_result"
    }
   ],
   "source": [
    "#Statistical Summary\n",
    "data.describe()"
   ]
  },
  {
   "cell_type": "code",
   "execution_count": 312,
   "id": "8dfc83c6",
   "metadata": {},
   "outputs": [],
   "source": [
    "#conversion of categorical attributes to 'category' (If required)\n",
    "columns_category = ['type', 'rating', 'country']\n",
    "\n",
    "for column in columns_category:\n",
    "    data.loc[:, column]  = data[column].astype('category')"
   ]
  },
  {
   "cell_type": "code",
   "execution_count": 313,
   "id": "b89c094b",
   "metadata": {},
   "outputs": [
    {
     "name": "stdout",
     "output_type": "stream",
     "text": [
      "<class 'pandas.core.frame.DataFrame'>\n",
      "Index: 186171 entries, 0 to 186398\n",
      "Data columns (total 12 columns):\n",
      " #   Column        Non-Null Count   Dtype         \n",
      "---  ------        --------------   -----         \n",
      " 0   show_id       186171 non-null  object        \n",
      " 1   type          186171 non-null  object        \n",
      " 2   title         186171 non-null  object        \n",
      " 3   director      186171 non-null  object        \n",
      " 4   date_added    186171 non-null  datetime64[ns]\n",
      " 5   release_year  186171 non-null  int64         \n",
      " 6   rating        186171 non-null  object        \n",
      " 7   duration      186171 non-null  float64       \n",
      " 8   description   186171 non-null  object        \n",
      " 9   cast          186171 non-null  object        \n",
      " 10  country       186171 non-null  object        \n",
      " 11  listed_in     186171 non-null  object        \n",
      "dtypes: datetime64[ns](1), float64(1), int64(1), object(9)\n",
      "memory usage: 18.5+ MB\n"
     ]
    }
   ],
   "source": [
    "data.info()"
   ]
  },
  {
   "cell_type": "markdown",
   "id": "1d711749",
   "metadata": {},
   "source": [
    "## Total number of Movies Vs TV shows"
   ]
  },
  {
   "cell_type": "code",
   "execution_count": 314,
   "id": "798ec588",
   "metadata": {},
   "outputs": [
    {
     "data": {
      "text/html": [
       "<div>\n",
       "<style scoped>\n",
       "    .dataframe tbody tr th:only-of-type {\n",
       "        vertical-align: middle;\n",
       "    }\n",
       "\n",
       "    .dataframe tbody tr th {\n",
       "        vertical-align: top;\n",
       "    }\n",
       "\n",
       "    .dataframe thead th {\n",
       "        text-align: right;\n",
       "    }\n",
       "</style>\n",
       "<table border=\"1\" class=\"dataframe\">\n",
       "  <thead>\n",
       "    <tr style=\"text-align: right;\">\n",
       "      <th></th>\n",
       "      <th>type</th>\n",
       "      <th>count</th>\n",
       "    </tr>\n",
       "  </thead>\n",
       "  <tbody>\n",
       "    <tr>\n",
       "      <th>0</th>\n",
       "      <td>Movie</td>\n",
       "      <td>6126</td>\n",
       "    </tr>\n",
       "    <tr>\n",
       "      <th>1</th>\n",
       "      <td>TV Show</td>\n",
       "      <td>2664</td>\n",
       "    </tr>\n",
       "  </tbody>\n",
       "</table>\n",
       "</div>"
      ],
      "text/plain": [
       "      type  count\n",
       "0    Movie   6126\n",
       "1  TV Show   2664"
      ]
     },
     "execution_count": 314,
     "metadata": {},
     "output_type": "execute_result"
    }
   ],
   "source": [
    "type_count = data.groupby('type')['title'].nunique().reset_index(name='count')\n",
    "type_count"
   ]
  },
  {
   "cell_type": "code",
   "execution_count": 315,
   "id": "d8acebe3",
   "metadata": {},
   "outputs": [
    {
     "data": {
      "image/png": "[encoded data removed]",
      "text/plain": [
       "<Figure size 640x480 with 1 Axes>"
      ]
     },
     "metadata": {},
     "output_type": "display_data"
    }
   ],
   "source": [
    "plt.pie(data=type_count, x='count', labels= type_count.type, autopct='%1.1f%%')\n",
    "plt.title(\"Total percentage of movies and tv shows\")\n",
    "plt.show()"
   ]
  },
  {
   "cell_type": "markdown",
   "id": "b66a333e",
   "metadata": {},
   "source": [
    "There are total of 6126 movies and 2664 tv shows in the data set"
   ]
  },
  {
   "cell_type": "markdown",
   "id": "c0ff25ae",
   "metadata": {},
   "source": [
    "## Movies and TV Shows with different ratings"
   ]
  },
  {
   "cell_type": "code",
   "execution_count": 316,
   "id": "9ad72ddb",
   "metadata": {},
   "outputs": [],
   "source": [
    "\n",
    "data.loc[:,'rating'] = data['rating'].str.strip()"
   ]
  },
  {
   "cell_type": "code",
   "execution_count": 317,
   "id": "f4ff2f17",
   "metadata": {},
   "outputs": [],
   "source": [
    "movies_df = data[data['type'] == 'Movie']\n",
    "#movies_df['duration'] = movies_df['duration'].str.extract('(\\d+)')\n",
    "\n",
    "#movies_df['duration'] = pd.to_numeric(movies_df['duration'])"
   ]
  },
  {
   "cell_type": "code",
   "execution_count": 318,
   "id": "53ba316a",
   "metadata": {},
   "outputs": [
    {
     "data": {
      "text/html": [
       "<div>\n",
       "<style scoped>\n",
       "    .dataframe tbody tr th:only-of-type {\n",
       "        vertical-align: middle;\n",
       "    }\n",
       "\n",
       "    .dataframe tbody tr th {\n",
       "        vertical-align: top;\n",
       "    }\n",
       "\n",
       "    .dataframe thead th {\n",
       "        text-align: right;\n",
       "    }\n",
       "</style>\n",
       "<table border=\"1\" class=\"dataframe\">\n",
       "  <thead>\n",
       "    <tr style=\"text-align: right;\">\n",
       "      <th></th>\n",
       "      <th>rating</th>\n",
       "      <th>movie count</th>\n",
       "    </tr>\n",
       "  </thead>\n",
       "  <tbody>\n",
       "    <tr>\n",
       "      <th>8</th>\n",
       "      <td>TV-MA</td>\n",
       "      <td>2062</td>\n",
       "    </tr>\n",
       "    <tr>\n",
       "      <th>6</th>\n",
       "      <td>TV-14</td>\n",
       "      <td>1427</td>\n",
       "    </tr>\n",
       "    <tr>\n",
       "      <th>5</th>\n",
       "      <td>R</td>\n",
       "      <td>797</td>\n",
       "    </tr>\n",
       "    <tr>\n",
       "      <th>9</th>\n",
       "      <td>TV-PG</td>\n",
       "      <td>540</td>\n",
       "    </tr>\n",
       "    <tr>\n",
       "      <th>4</th>\n",
       "      <td>PG-13</td>\n",
       "      <td>490</td>\n",
       "    </tr>\n",
       "    <tr>\n",
       "      <th>3</th>\n",
       "      <td>PG</td>\n",
       "      <td>287</td>\n",
       "    </tr>\n",
       "    <tr>\n",
       "      <th>11</th>\n",
       "      <td>TV-Y7</td>\n",
       "      <td>139</td>\n",
       "    </tr>\n",
       "    <tr>\n",
       "      <th>10</th>\n",
       "      <td>TV-Y</td>\n",
       "      <td>131</td>\n",
       "    </tr>\n",
       "    <tr>\n",
       "      <th>7</th>\n",
       "      <td>TV-G</td>\n",
       "      <td>126</td>\n",
       "    </tr>\n",
       "    <tr>\n",
       "      <th>2</th>\n",
       "      <td>NR</td>\n",
       "      <td>75</td>\n",
       "    </tr>\n",
       "    <tr>\n",
       "      <th>0</th>\n",
       "      <td>G</td>\n",
       "      <td>41</td>\n",
       "    </tr>\n",
       "    <tr>\n",
       "      <th>12</th>\n",
       "      <td>TV-Y7-FV</td>\n",
       "      <td>5</td>\n",
       "    </tr>\n",
       "    <tr>\n",
       "      <th>1</th>\n",
       "      <td>NC-17</td>\n",
       "      <td>3</td>\n",
       "    </tr>\n",
       "    <tr>\n",
       "      <th>13</th>\n",
       "      <td>UR</td>\n",
       "      <td>3</td>\n",
       "    </tr>\n",
       "  </tbody>\n",
       "</table>\n",
       "</div>"
      ],
      "text/plain": [
       "      rating  movie count\n",
       "8      TV-MA         2062\n",
       "6      TV-14         1427\n",
       "5          R          797\n",
       "9      TV-PG          540\n",
       "4      PG-13          490\n",
       "3         PG          287\n",
       "11     TV-Y7          139\n",
       "10      TV-Y          131\n",
       "7       TV-G          126\n",
       "2         NR           75\n",
       "0          G           41\n",
       "12  TV-Y7-FV            5\n",
       "1      NC-17            3\n",
       "13        UR            3"
      ]
     },
     "execution_count": 318,
     "metadata": {},
     "output_type": "execute_result"
    }
   ],
   "source": [
    "ratings_count = movies_df.groupby('rating')['title'].nunique().reset_index(name='movie count')\n",
    "ratings_count.sort_values('movie count',ascending=False)"
   ]
  },
  {
   "cell_type": "markdown",
   "id": "93c99c1a",
   "metadata": {},
   "source": [
    "Most number of movies are with ratings \"TV-MA\".\n",
    "Least number of movies are with ratings \"UR\" and \"NC-17\"."
   ]
  },
  {
   "cell_type": "code",
   "execution_count": 319,
   "id": "880d4d1e",
   "metadata": {},
   "outputs": [],
   "source": [
    "tv_shows_df = data[data['type'] == 'TV Show']\n",
    "#tv_shows_df['duration'] = tv_shows_df['duration'].str.extract('(\\d+)')\n",
    "\n",
    "#tv_shows_df['duration'] = pd.to_numeric(tv_shows_df['duration'])\n"
   ]
  },
  {
   "cell_type": "code",
   "execution_count": 320,
   "id": "5dbd40ef",
   "metadata": {},
   "outputs": [
    {
     "data": {
      "text/html": [
       "<div>\n",
       "<style scoped>\n",
       "    .dataframe tbody tr th:only-of-type {\n",
       "        vertical-align: middle;\n",
       "    }\n",
       "\n",
       "    .dataframe tbody tr th {\n",
       "        vertical-align: top;\n",
       "    }\n",
       "\n",
       "    .dataframe thead th {\n",
       "        text-align: right;\n",
       "    }\n",
       "</style>\n",
       "<table border=\"1\" class=\"dataframe\">\n",
       "  <thead>\n",
       "    <tr style=\"text-align: right;\">\n",
       "      <th></th>\n",
       "      <th>rating</th>\n",
       "      <th>TV Show count</th>\n",
       "    </tr>\n",
       "  </thead>\n",
       "  <tbody>\n",
       "    <tr>\n",
       "      <th>4</th>\n",
       "      <td>TV-MA</td>\n",
       "      <td>1143</td>\n",
       "    </tr>\n",
       "    <tr>\n",
       "      <th>2</th>\n",
       "      <td>TV-14</td>\n",
       "      <td>730</td>\n",
       "    </tr>\n",
       "    <tr>\n",
       "      <th>5</th>\n",
       "      <td>TV-PG</td>\n",
       "      <td>321</td>\n",
       "    </tr>\n",
       "    <tr>\n",
       "      <th>7</th>\n",
       "      <td>TV-Y7</td>\n",
       "      <td>194</td>\n",
       "    </tr>\n",
       "    <tr>\n",
       "      <th>6</th>\n",
       "      <td>TV-Y</td>\n",
       "      <td>175</td>\n",
       "    </tr>\n",
       "    <tr>\n",
       "      <th>3</th>\n",
       "      <td>TV-G</td>\n",
       "      <td>94</td>\n",
       "    </tr>\n",
       "    <tr>\n",
       "      <th>0</th>\n",
       "      <td>NR</td>\n",
       "      <td>4</td>\n",
       "    </tr>\n",
       "    <tr>\n",
       "      <th>1</th>\n",
       "      <td>R</td>\n",
       "      <td>2</td>\n",
       "    </tr>\n",
       "    <tr>\n",
       "      <th>8</th>\n",
       "      <td>TV-Y7-FV</td>\n",
       "      <td>1</td>\n",
       "    </tr>\n",
       "  </tbody>\n",
       "</table>\n",
       "</div>"
      ],
      "text/plain": [
       "     rating  TV Show count\n",
       "4     TV-MA           1143\n",
       "2     TV-14            730\n",
       "5     TV-PG            321\n",
       "7     TV-Y7            194\n",
       "6      TV-Y            175\n",
       "3      TV-G             94\n",
       "0        NR              4\n",
       "1         R              2\n",
       "8  TV-Y7-FV              1"
      ]
     },
     "execution_count": 320,
     "metadata": {},
     "output_type": "execute_result"
    }
   ],
   "source": [
    "ratings_count = tv_shows_df.groupby('rating')['title'].nunique().reset_index(name='TV Show count')\n",
    "ratings_count.sort_values('TV Show count',ascending=False)"
   ]
  },
  {
   "cell_type": "markdown",
   "id": "25eeb19e",
   "metadata": {},
   "source": [
    "Most number of tv shows are with ratings \"TV-MA\".\n",
    "Least number of movies are with \"TV-Y7-FV\"."
   ]
  },
  {
   "cell_type": "markdown",
   "id": "abead54b",
   "metadata": {},
   "source": [
    "## Countries with most movies and tv shows"
   ]
  },
  {
   "cell_type": "code",
   "execution_count": 321,
   "id": "78869a1b",
   "metadata": {},
   "outputs": [
    {
     "data": {
      "text/html": [
       "<div>\n",
       "<style scoped>\n",
       "    .dataframe tbody tr th:only-of-type {\n",
       "        vertical-align: middle;\n",
       "    }\n",
       "\n",
       "    .dataframe tbody tr th {\n",
       "        vertical-align: top;\n",
       "    }\n",
       "\n",
       "    .dataframe thead th {\n",
       "        text-align: right;\n",
       "    }\n",
       "</style>\n",
       "<table border=\"1\" class=\"dataframe\">\n",
       "  <thead>\n",
       "    <tr style=\"text-align: right;\">\n",
       "      <th></th>\n",
       "      <th>country</th>\n",
       "      <th>count</th>\n",
       "    </tr>\n",
       "  </thead>\n",
       "  <tbody>\n",
       "    <tr>\n",
       "      <th>181</th>\n",
       "      <td>United States</td>\n",
       "      <td>2361</td>\n",
       "    </tr>\n",
       "    <tr>\n",
       "      <th>136</th>\n",
       "      <td>India</td>\n",
       "      <td>927</td>\n",
       "    </tr>\n",
       "    <tr>\n",
       "      <th>182</th>\n",
       "      <td>Unknown country</td>\n",
       "      <td>439</td>\n",
       "    </tr>\n",
       "    <tr>\n",
       "      <th>103</th>\n",
       "      <td>United States</td>\n",
       "      <td>388</td>\n",
       "    </tr>\n",
       "    <tr>\n",
       "      <th>180</th>\n",
       "      <td>United Kingdom</td>\n",
       "      <td>382</td>\n",
       "    </tr>\n",
       "    <tr>\n",
       "      <th>118</th>\n",
       "      <td>Canada</td>\n",
       "      <td>187</td>\n",
       "    </tr>\n",
       "    <tr>\n",
       "      <th>32</th>\n",
       "      <td>France</td>\n",
       "      <td>155</td>\n",
       "    </tr>\n",
       "    <tr>\n",
       "      <th>102</th>\n",
       "      <td>United Kingdom</td>\n",
       "      <td>152</td>\n",
       "    </tr>\n",
       "    <tr>\n",
       "      <th>127</th>\n",
       "      <td>France</td>\n",
       "      <td>148</td>\n",
       "    </tr>\n",
       "    <tr>\n",
       "      <th>18</th>\n",
       "      <td>Canada</td>\n",
       "      <td>132</td>\n",
       "    </tr>\n",
       "  </tbody>\n",
       "</table>\n",
       "</div>"
      ],
      "text/plain": [
       "             country  count\n",
       "181    United States   2361\n",
       "136            India    927\n",
       "182  Unknown country    439\n",
       "103    United States    388\n",
       "180   United Kingdom    382\n",
       "118           Canada    187\n",
       "32            France    155\n",
       "102   United Kingdom    152\n",
       "127           France    148\n",
       "18            Canada    132"
      ]
     },
     "execution_count": 321,
     "metadata": {},
     "output_type": "execute_result"
    }
   ],
   "source": [
    "country_count = movies_df.groupby('country')['title'].nunique().reset_index(name=\"count\")\n",
    "top_10_country_movies = country_count.sort_values('count', ascending=False).head(10)\n",
    "top_10_country_movies"
   ]
  },
  {
   "cell_type": "markdown",
   "id": "9f3b0f4b",
   "metadata": {},
   "source": [
    "Top 10 countries with most number of movies"
   ]
  },
  {
   "cell_type": "code",
   "execution_count": 322,
   "id": "8c7da3e4",
   "metadata": {},
   "outputs": [
    {
     "data": {
      "text/html": [
       "<div>\n",
       "<style scoped>\n",
       "    .dataframe tbody tr th:only-of-type {\n",
       "        vertical-align: middle;\n",
       "    }\n",
       "\n",
       "    .dataframe tbody tr th {\n",
       "        vertical-align: top;\n",
       "    }\n",
       "\n",
       "    .dataframe thead th {\n",
       "        text-align: right;\n",
       "    }\n",
       "</style>\n",
       "<table border=\"1\" class=\"dataframe\">\n",
       "  <thead>\n",
       "    <tr style=\"text-align: right;\">\n",
       "      <th></th>\n",
       "      <th>country</th>\n",
       "      <th>TV Show Count</th>\n",
       "    </tr>\n",
       "  </thead>\n",
       "  <tbody>\n",
       "    <tr>\n",
       "      <th>100</th>\n",
       "      <td>United States</td>\n",
       "      <td>841</td>\n",
       "    </tr>\n",
       "    <tr>\n",
       "      <th>101</th>\n",
       "      <td>Unknown country</td>\n",
       "      <td>390</td>\n",
       "    </tr>\n",
       "    <tr>\n",
       "      <th>99</th>\n",
       "      <td>United Kingdom</td>\n",
       "      <td>245</td>\n",
       "    </tr>\n",
       "    <tr>\n",
       "      <th>69</th>\n",
       "      <td>Japan</td>\n",
       "      <td>172</td>\n",
       "    </tr>\n",
       "    <tr>\n",
       "      <th>90</th>\n",
       "      <td>South Korea</td>\n",
       "      <td>164</td>\n",
       "    </tr>\n",
       "    <tr>\n",
       "      <th>42</th>\n",
       "      <td>United States</td>\n",
       "      <td>91</td>\n",
       "    </tr>\n",
       "    <tr>\n",
       "      <th>50</th>\n",
       "      <td>Canada</td>\n",
       "      <td>84</td>\n",
       "    </tr>\n",
       "    <tr>\n",
       "      <th>64</th>\n",
       "      <td>India</td>\n",
       "      <td>81</td>\n",
       "    </tr>\n",
       "    <tr>\n",
       "      <th>94</th>\n",
       "      <td>Taiwan</td>\n",
       "      <td>70</td>\n",
       "    </tr>\n",
       "    <tr>\n",
       "      <th>60</th>\n",
       "      <td>France</td>\n",
       "      <td>64</td>\n",
       "    </tr>\n",
       "  </tbody>\n",
       "</table>\n",
       "</div>"
      ],
      "text/plain": [
       "             country  TV Show Count\n",
       "100    United States            841\n",
       "101  Unknown country            390\n",
       "99    United Kingdom            245\n",
       "69             Japan            172\n",
       "90       South Korea            164\n",
       "42     United States             91\n",
       "50            Canada             84\n",
       "64             India             81\n",
       "94            Taiwan             70\n",
       "60            France             64"
      ]
     },
     "execution_count": 322,
     "metadata": {},
     "output_type": "execute_result"
    }
   ],
   "source": [
    "country_count = tv_shows_df.groupby('country')['title'].nunique().reset_index(name=\"TV Show Count\")\n",
    "top_10_country_tv = country_count.sort_values('TV Show Count', ascending=False).head(10)\n",
    "top_10_country_tv"
   ]
  },
  {
   "cell_type": "markdown",
   "id": "010ed4f1",
   "metadata": {},
   "source": [
    "Top 10 countries with most number of tv shows"
   ]
  },
  {
   "cell_type": "markdown",
   "id": "7b0aa586",
   "metadata": {},
   "source": [
    "## Production of Movies and TV shows over the years"
   ]
  },
  {
   "cell_type": "code",
   "execution_count": 323,
   "id": "4a053520",
   "metadata": {},
   "outputs": [
    {
     "data": {
      "text/html": [
       "<div>\n",
       "<style scoped>\n",
       "    .dataframe tbody tr th:only-of-type {\n",
       "        vertical-align: middle;\n",
       "    }\n",
       "\n",
       "    .dataframe tbody tr th {\n",
       "        vertical-align: top;\n",
       "    }\n",
       "\n",
       "    .dataframe thead th {\n",
       "        text-align: right;\n",
       "    }\n",
       "</style>\n",
       "<table border=\"1\" class=\"dataframe\">\n",
       "  <thead>\n",
       "    <tr style=\"text-align: right;\">\n",
       "      <th></th>\n",
       "      <th>release_year</th>\n",
       "      <th>movies count</th>\n",
       "    </tr>\n",
       "  </thead>\n",
       "  <tbody>\n",
       "    <tr>\n",
       "      <th>69</th>\n",
       "      <td>2018</td>\n",
       "      <td>767</td>\n",
       "    </tr>\n",
       "    <tr>\n",
       "      <th>68</th>\n",
       "      <td>2017</td>\n",
       "      <td>765</td>\n",
       "    </tr>\n",
       "    <tr>\n",
       "      <th>67</th>\n",
       "      <td>2016</td>\n",
       "      <td>658</td>\n",
       "    </tr>\n",
       "    <tr>\n",
       "      <th>70</th>\n",
       "      <td>2019</td>\n",
       "      <td>633</td>\n",
       "    </tr>\n",
       "    <tr>\n",
       "      <th>71</th>\n",
       "      <td>2020</td>\n",
       "      <td>517</td>\n",
       "    </tr>\n",
       "    <tr>\n",
       "      <th>66</th>\n",
       "      <td>2015</td>\n",
       "      <td>396</td>\n",
       "    </tr>\n",
       "    <tr>\n",
       "      <th>72</th>\n",
       "      <td>2021</td>\n",
       "      <td>277</td>\n",
       "    </tr>\n",
       "    <tr>\n",
       "      <th>65</th>\n",
       "      <td>2014</td>\n",
       "      <td>264</td>\n",
       "    </tr>\n",
       "    <tr>\n",
       "      <th>64</th>\n",
       "      <td>2013</td>\n",
       "      <td>225</td>\n",
       "    </tr>\n",
       "    <tr>\n",
       "      <th>63</th>\n",
       "      <td>2012</td>\n",
       "      <td>173</td>\n",
       "    </tr>\n",
       "  </tbody>\n",
       "</table>\n",
       "</div>"
      ],
      "text/plain": [
       "    release_year  movies count\n",
       "69          2018           767\n",
       "68          2017           765\n",
       "67          2016           658\n",
       "70          2019           633\n",
       "71          2020           517\n",
       "66          2015           396\n",
       "72          2021           277\n",
       "65          2014           264\n",
       "64          2013           225\n",
       "63          2012           173"
      ]
     },
     "execution_count": 323,
     "metadata": {},
     "output_type": "execute_result"
    }
   ],
   "source": [
    "movies_per_year_counts = movies_df.groupby('release_year')['title'].nunique().reset_index(name='movies count')\n",
    "movies_per_year_counts.sort_values('movies count', ascending=False).head(10)"
   ]
  },
  {
   "cell_type": "code",
   "execution_count": 324,
   "id": "d86f2a48",
   "metadata": {},
   "outputs": [
    {
     "name": "stderr",
     "output_type": "stream",
     "text": [
      "C:\\Users\\ShubhamYeole\\anaconda3\\Lib\\site-packages\\seaborn\\axisgrid.py:118: UserWarning: The figure layout has changed to tight\n",
      "  self._figure.tight_layout(*args, **kwargs)\n"
     ]
    },
    {
     "data": {
      "text/plain": [
       "<Figure size 1200x600 with 0 Axes>"
      ]
     },
     "metadata": {},
     "output_type": "display_data"
    },
    {
     "data": {
      "image/png": "[encoded data removed]",
      "text/plain": [
       "<Figure size 500x500 with 1 Axes>"
      ]
     },
     "metadata": {},
     "output_type": "display_data"
    }
   ],
   "source": [
    "plt.figure(figsize=(12,6))\n",
    "sns.displot(data = netflix_df[netflix_df['type']=='Movie'], x= 'release_year', kde=False, bins=30)\n",
    "plt.ylabel('No of Movies')\n",
    "plt.title(\"Number of Movies over the years\")\n",
    "plt.show()"
   ]
  },
  {
   "cell_type": "code",
   "execution_count": 325,
   "id": "566ea68a",
   "metadata": {},
   "outputs": [
    {
     "data": {
      "text/html": [
       "<div>\n",
       "<style scoped>\n",
       "    .dataframe tbody tr th:only-of-type {\n",
       "        vertical-align: middle;\n",
       "    }\n",
       "\n",
       "    .dataframe tbody tr th {\n",
       "        vertical-align: top;\n",
       "    }\n",
       "\n",
       "    .dataframe thead th {\n",
       "        text-align: right;\n",
       "    }\n",
       "</style>\n",
       "<table border=\"1\" class=\"dataframe\">\n",
       "  <thead>\n",
       "    <tr style=\"text-align: right;\">\n",
       "      <th></th>\n",
       "      <th>release_year</th>\n",
       "      <th>TV Shows count</th>\n",
       "    </tr>\n",
       "  </thead>\n",
       "  <tbody>\n",
       "    <tr>\n",
       "      <th>44</th>\n",
       "      <td>2020</td>\n",
       "      <td>436</td>\n",
       "    </tr>\n",
       "    <tr>\n",
       "      <th>43</th>\n",
       "      <td>2019</td>\n",
       "      <td>397</td>\n",
       "    </tr>\n",
       "    <tr>\n",
       "      <th>42</th>\n",
       "      <td>2018</td>\n",
       "      <td>379</td>\n",
       "    </tr>\n",
       "    <tr>\n",
       "      <th>45</th>\n",
       "      <td>2021</td>\n",
       "      <td>315</td>\n",
       "    </tr>\n",
       "    <tr>\n",
       "      <th>41</th>\n",
       "      <td>2017</td>\n",
       "      <td>265</td>\n",
       "    </tr>\n",
       "    <tr>\n",
       "      <th>40</th>\n",
       "      <td>2016</td>\n",
       "      <td>243</td>\n",
       "    </tr>\n",
       "    <tr>\n",
       "      <th>39</th>\n",
       "      <td>2015</td>\n",
       "      <td>159</td>\n",
       "    </tr>\n",
       "    <tr>\n",
       "      <th>38</th>\n",
       "      <td>2014</td>\n",
       "      <td>88</td>\n",
       "    </tr>\n",
       "    <tr>\n",
       "      <th>36</th>\n",
       "      <td>2012</td>\n",
       "      <td>63</td>\n",
       "    </tr>\n",
       "    <tr>\n",
       "      <th>37</th>\n",
       "      <td>2013</td>\n",
       "      <td>61</td>\n",
       "    </tr>\n",
       "  </tbody>\n",
       "</table>\n",
       "</div>"
      ],
      "text/plain": [
       "    release_year  TV Shows count\n",
       "44          2020             436\n",
       "43          2019             397\n",
       "42          2018             379\n",
       "45          2021             315\n",
       "41          2017             265\n",
       "40          2016             243\n",
       "39          2015             159\n",
       "38          2014              88\n",
       "36          2012              63\n",
       "37          2013              61"
      ]
     },
     "execution_count": 325,
     "metadata": {},
     "output_type": "execute_result"
    }
   ],
   "source": [
    "tv_per_year_counts = tv_shows_df.groupby('release_year')['title'].nunique().reset_index(name='TV Shows count')\n",
    "tv_per_year_counts.sort_values('TV Shows count', ascending=False).head(10)"
   ]
  },
  {
   "cell_type": "code",
   "execution_count": 326,
   "id": "96ac4cbc",
   "metadata": {},
   "outputs": [
    {
     "name": "stderr",
     "output_type": "stream",
     "text": [
      "C:\\Users\\ShubhamYeole\\anaconda3\\Lib\\site-packages\\seaborn\\axisgrid.py:118: UserWarning: The figure layout has changed to tight\n",
      "  self._figure.tight_layout(*args, **kwargs)\n"
     ]
    },
    {
     "data": {
      "text/plain": [
       "<Figure size 1200x600 with 0 Axes>"
      ]
     },
     "metadata": {},
     "output_type": "display_data"
    },
    {
     "data": {
      "image/png": "[encoded data removed]",
      "text/plain": [
       "<Figure size 500x500 with 1 Axes>"
      ]
     },
     "metadata": {},
     "output_type": "display_data"
    }
   ],
   "source": [
    "plt.figure(figsize=(12,6))\n",
    "sns.displot(data = netflix_df[netflix_df['type']=='TV Show'], x= 'release_year', kde=False, bins=30)\n",
    "plt.ylabel('No of TV Shows')\n",
    "plt.title(\"Number of TV Shows over the years\")\n",
    "plt.show()"
   ]
  },
  {
   "cell_type": "markdown",
   "id": "6525896f",
   "metadata": {},
   "source": [
    "The popularity of TV Show productions increased after the year 2005. Even during the pandemic, the growth of tv shows production increased. "
   ]
  },
  {
   "cell_type": "code",
   "execution_count": 327,
   "id": "20d338ff",
   "metadata": {},
   "outputs": [
    {
     "data": {
      "image/png": "[encoded data removed]",
      "text/plain": [
       "<Figure size 640x480 with 1 Axes>"
      ]
     },
     "metadata": {},
     "output_type": "display_data"
    }
   ],
   "source": [
    "sns.lineplot(data=movies_per_year_counts, x='release_year', y='movies count', label='Movies')\n",
    "sns.lineplot(data=tv_per_year_counts, x='release_year', y='TV Shows count', label='TV Shows')\n",
    "plt.title(\"Movies vs TV Shows\")\n",
    "plt.xlabel('Release Years')\n",
    "plt.ylabel('Count')\n",
    "plt.legend()\n",
    "plt.show()"
   ]
  },
  {
   "cell_type": "markdown",
   "id": "5f03c2e6",
   "metadata": {},
   "source": [
    "## Average Duration of Movies and TV Shows"
   ]
  },
  {
   "cell_type": "code",
   "execution_count": 328,
   "id": "6a411d2d",
   "metadata": {},
   "outputs": [
    {
     "data": {
      "text/plain": [
       "Text(0.5, 1.0, 'Average Duration of Movies')"
      ]
     },
     "execution_count": 328,
     "metadata": {},
     "output_type": "execute_result"
    },
    {
     "data": {
      "image/png": "[encoded data removed]",
      "text/plain": [
       "<Figure size 640x480 with 1 Axes>"
      ]
     },
     "metadata": {},
     "output_type": "display_data"
    }
   ],
   "source": [
    "sns.boxplot(x='type', y='duration', data=movies_df)\n",
    "plt.title(\"Average Duration of Movies\")"
   ]
  },
  {
   "cell_type": "code",
   "execution_count": 329,
   "id": "647dd418",
   "metadata": {},
   "outputs": [
    {
     "data": {
      "text/plain": [
       "107.5286956389906"
      ]
     },
     "execution_count": 329,
     "metadata": {},
     "output_type": "execute_result"
    }
   ],
   "source": [
    "movies_df['duration'].mean()"
   ]
  },
  {
   "cell_type": "markdown",
   "id": "7646910e",
   "metadata": {},
   "source": [
    "The average duration or runtime of movies is 107.5 minutes"
   ]
  },
  {
   "cell_type": "code",
   "execution_count": 330,
   "id": "a563bdea",
   "metadata": {},
   "outputs": [
    {
     "data": {
      "text/plain": [
       "Text(0.5, 1.0, 'Average duration of TV Shows')"
      ]
     },
     "execution_count": 330,
     "metadata": {},
     "output_type": "execute_result"
    },
    {
     "data": {
      "image/png": "[encoded data removed]",
      "text/plain": [
       "<Figure size 640x480 with 1 Axes>"
      ]
     },
     "metadata": {},
     "output_type": "display_data"
    }
   ],
   "source": [
    "sns.boxplot(x='type', y='duration', data=tv_shows_df)\n",
    "plt.title(\"Average duration of TV Shows\")"
   ]
  },
  {
   "cell_type": "code",
   "execution_count": 331,
   "id": "355bae24",
   "metadata": {},
   "outputs": [
    {
     "data": {
      "text/plain": [
       "1.9454582319545823"
      ]
     },
     "execution_count": 331,
     "metadata": {},
     "output_type": "execute_result"
    }
   ],
   "source": [
    "tv_shows_df['duration'].mean()"
   ]
  },
  {
   "cell_type": "markdown",
   "id": "4f1c0363",
   "metadata": {},
   "source": [
    "For TV Shows the durationis measured in seasons, for which the average is 1.9 seasons"
   ]
  },
  {
   "cell_type": "markdown",
   "id": "73b92ce9",
   "metadata": {},
   "source": [
    "## Top 20 Genres across Netflix\n"
   ]
  },
  {
   "cell_type": "code",
   "execution_count": 332,
   "id": "547b72f6",
   "metadata": {},
   "outputs": [
    {
     "data": {
      "text/html": [
       "<div>\n",
       "<style scoped>\n",
       "    .dataframe tbody tr th:only-of-type {\n",
       "        vertical-align: middle;\n",
       "    }\n",
       "\n",
       "    .dataframe tbody tr th {\n",
       "        vertical-align: top;\n",
       "    }\n",
       "\n",
       "    .dataframe thead th {\n",
       "        text-align: right;\n",
       "    }\n",
       "</style>\n",
       "<table border=\"1\" class=\"dataframe\">\n",
       "  <thead>\n",
       "    <tr style=\"text-align: right;\">\n",
       "      <th></th>\n",
       "      <th>listed_in</th>\n",
       "      <th>count</th>\n",
       "    </tr>\n",
       "  </thead>\n",
       "  <tbody>\n",
       "    <tr>\n",
       "      <th>0</th>\n",
       "      <td>Anime Features</td>\n",
       "      <td>50</td>\n",
       "    </tr>\n",
       "    <tr>\n",
       "      <th>1</th>\n",
       "      <td>Children &amp; Family Movies</td>\n",
       "      <td>36</td>\n",
       "    </tr>\n",
       "    <tr>\n",
       "      <th>2</th>\n",
       "      <td>Classic &amp; Cult TV</td>\n",
       "      <td>6</td>\n",
       "    </tr>\n",
       "    <tr>\n",
       "      <th>3</th>\n",
       "      <td>Classic Movies</td>\n",
       "      <td>36</td>\n",
       "    </tr>\n",
       "    <tr>\n",
       "      <th>4</th>\n",
       "      <td>Comedies</td>\n",
       "      <td>464</td>\n",
       "    </tr>\n",
       "    <tr>\n",
       "      <th>...</th>\n",
       "      <td>...</td>\n",
       "      <td>...</td>\n",
       "    </tr>\n",
       "    <tr>\n",
       "      <th>68</th>\n",
       "      <td>TV Dramas</td>\n",
       "      <td>67</td>\n",
       "    </tr>\n",
       "    <tr>\n",
       "      <th>69</th>\n",
       "      <td>TV Horror</td>\n",
       "      <td>11</td>\n",
       "    </tr>\n",
       "    <tr>\n",
       "      <th>70</th>\n",
       "      <td>TV Sci-Fi &amp; Fantasy</td>\n",
       "      <td>1</td>\n",
       "    </tr>\n",
       "    <tr>\n",
       "      <th>71</th>\n",
       "      <td>TV Shows</td>\n",
       "      <td>16</td>\n",
       "    </tr>\n",
       "    <tr>\n",
       "      <th>72</th>\n",
       "      <td>Thrillers</td>\n",
       "      <td>65</td>\n",
       "    </tr>\n",
       "  </tbody>\n",
       "</table>\n",
       "<p>73 rows × 2 columns</p>\n",
       "</div>"
      ],
      "text/plain": [
       "                    listed_in  count\n",
       "0              Anime Features     50\n",
       "1    Children & Family Movies     36\n",
       "2           Classic & Cult TV      6\n",
       "3              Classic Movies     36\n",
       "4                    Comedies    464\n",
       "..                        ...    ...\n",
       "68                  TV Dramas     67\n",
       "69                  TV Horror     11\n",
       "70        TV Sci-Fi & Fantasy      1\n",
       "71                   TV Shows     16\n",
       "72                  Thrillers     65\n",
       "\n",
       "[73 rows x 2 columns]"
      ]
     },
     "execution_count": 332,
     "metadata": {},
     "output_type": "execute_result"
    }
   ],
   "source": [
    "filtered_genres = data.groupby('listed_in')['title'].nunique().reset_index(name='count')\n",
    "filtered_genres"
   ]
  },
  {
   "cell_type": "code",
   "execution_count": 333,
   "id": "0d6630e8",
   "metadata": {},
   "outputs": [
    {
     "data": {
      "image/png": "[encoded data removed]",
      "text/plain": [
       "<Figure size 1000x600 with 1 Axes>"
      ]
     },
     "metadata": {},
     "output_type": "display_data"
    }
   ],
   "source": [
    "plt.figure(figsize=(10,6))\n",
    "sns.barplot(data= filtered_genres[:20], y= 'count', x= 'listed_in')\n",
    "plt.xlabel(\"Genres\")\n",
    "plt.ylabel(\"No. of Movies and TV Shows\")\n",
    "plt.xticks(rotation=90)\n",
    "plt.title(\"Top 20 Genres across netflix\")\n",
    "plt.show()"
   ]
  },
  {
   "cell_type": "markdown",
   "id": "7eda7a2e",
   "metadata": {},
   "source": [
    "\"International Movies\" is the most popular genre while \"Classic & Cult TV\" is the least popular."
   ]
  },
  {
   "cell_type": "markdown",
   "id": "847f02be",
   "metadata": {},
   "source": [
    "## Best time to launch Movies and TV shows on netflix."
   ]
  },
  {
   "cell_type": "code",
   "execution_count": 334,
   "id": "54b77d06",
   "metadata": {},
   "outputs": [
    {
     "name": "stderr",
     "output_type": "stream",
     "text": [
      "C:\\Users\\Shubham Yeole\\AppData\\Local\\Temp\\ipykernel_19308\\920358558.py:1: SettingWithCopyWarning: \n",
      "A value is trying to be set on a copy of a slice from a DataFrame.\n",
      "Try using .loc[row_indexer,col_indexer] = value instead\n",
      "\n",
      "See the caveats in the documentation: https://pandas.pydata.org/pandas-docs/stable/user_guide/indexing.html#returning-a-view-versus-a-copy\n",
      "  movies_df['week_added'] = movies_df['date_added'].dt.isocalendar().week\n"
     ]
    }
   ],
   "source": [
    "movies_df['week_added'] = movies_df['date_added'].dt.isocalendar().week"
   ]
  },
  {
   "cell_type": "code",
   "execution_count": 335,
   "id": "881bb7dc",
   "metadata": {},
   "outputs": [
    {
     "data": {
      "text/html": [
       "<div>\n",
       "<style scoped>\n",
       "    .dataframe tbody tr th:only-of-type {\n",
       "        vertical-align: middle;\n",
       "    }\n",
       "\n",
       "    .dataframe tbody tr th {\n",
       "        vertical-align: top;\n",
       "    }\n",
       "\n",
       "    .dataframe thead th {\n",
       "        text-align: right;\n",
       "    }\n",
       "</style>\n",
       "<table border=\"1\" class=\"dataframe\">\n",
       "  <thead>\n",
       "    <tr style=\"text-align: right;\">\n",
       "      <th></th>\n",
       "      <th>week_added</th>\n",
       "      <th>No of Movies</th>\n",
       "    </tr>\n",
       "  </thead>\n",
       "  <tbody>\n",
       "    <tr>\n",
       "      <th>0</th>\n",
       "      <td>1</td>\n",
       "      <td>316</td>\n",
       "    </tr>\n",
       "    <tr>\n",
       "      <th>43</th>\n",
       "      <td>44</td>\n",
       "      <td>243</td>\n",
       "    </tr>\n",
       "    <tr>\n",
       "      <th>39</th>\n",
       "      <td>40</td>\n",
       "      <td>215</td>\n",
       "    </tr>\n",
       "    <tr>\n",
       "      <th>8</th>\n",
       "      <td>9</td>\n",
       "      <td>206</td>\n",
       "    </tr>\n",
       "    <tr>\n",
       "      <th>25</th>\n",
       "      <td>26</td>\n",
       "      <td>195</td>\n",
       "    </tr>\n",
       "  </tbody>\n",
       "</table>\n",
       "</div>"
      ],
      "text/plain": [
       "    week_added  No of Movies\n",
       "0            1           316\n",
       "43          44           243\n",
       "39          40           215\n",
       "8            9           206\n",
       "25          26           195"
      ]
     },
     "execution_count": 335,
     "metadata": {},
     "output_type": "execute_result"
    }
   ],
   "source": [
    "movies_week = movies_df.groupby('week_added')['title'].nunique().reset_index(name='No of Movies')\n",
    "movies_week.sort_values('No of Movies', ascending=False).head()"
   ]
  },
  {
   "cell_type": "markdown",
   "id": "9ea285d5",
   "metadata": {},
   "source": [
    "Top 5 weeks of the year when most number of movies are added on netflix. Based on data, we can conclude that these weeks of year is the best time to add movies."
   ]
  },
  {
   "cell_type": "code",
   "execution_count": 336,
   "id": "8ef4ed1c",
   "metadata": {},
   "outputs": [
    {
     "name": "stderr",
     "output_type": "stream",
     "text": [
      "C:\\Users\\Shubham Yeole\\AppData\\Local\\Temp\\ipykernel_19308\\2055704330.py:1: SettingWithCopyWarning: \n",
      "A value is trying to be set on a copy of a slice from a DataFrame.\n",
      "Try using .loc[row_indexer,col_indexer] = value instead\n",
      "\n",
      "See the caveats in the documentation: https://pandas.pydata.org/pandas-docs/stable/user_guide/indexing.html#returning-a-view-versus-a-copy\n",
      "  tv_shows_df['month_added'] = tv_shows_df['date_added'].dt.month\n"
     ]
    }
   ],
   "source": [
    "tv_shows_df['month_added'] = tv_shows_df['date_added'].dt.month"
   ]
  },
  {
   "cell_type": "code",
   "execution_count": 337,
   "id": "e22fa885",
   "metadata": {},
   "outputs": [
    {
     "data": {
      "text/html": [
       "<div>\n",
       "<style scoped>\n",
       "    .dataframe tbody tr th:only-of-type {\n",
       "        vertical-align: middle;\n",
       "    }\n",
       "\n",
       "    .dataframe tbody tr th {\n",
       "        vertical-align: top;\n",
       "    }\n",
       "\n",
       "    .dataframe thead th {\n",
       "        text-align: right;\n",
       "    }\n",
       "</style>\n",
       "<table border=\"1\" class=\"dataframe\">\n",
       "  <thead>\n",
       "    <tr style=\"text-align: right;\">\n",
       "      <th></th>\n",
       "      <th>show_id</th>\n",
       "      <th>type</th>\n",
       "      <th>title</th>\n",
       "      <th>director</th>\n",
       "      <th>date_added</th>\n",
       "      <th>release_year</th>\n",
       "      <th>rating</th>\n",
       "      <th>duration</th>\n",
       "      <th>description</th>\n",
       "      <th>cast</th>\n",
       "      <th>country</th>\n",
       "      <th>listed_in</th>\n",
       "      <th>month_added</th>\n",
       "    </tr>\n",
       "  </thead>\n",
       "  <tbody>\n",
       "    <tr>\n",
       "      <th>1</th>\n",
       "      <td>s2</td>\n",
       "      <td>TV Show</td>\n",
       "      <td>Blood &amp; Water</td>\n",
       "      <td>Unknown director</td>\n",
       "      <td>2021-09-24</td>\n",
       "      <td>2021</td>\n",
       "      <td>TV-MA</td>\n",
       "      <td>2.0</td>\n",
       "      <td>After crossing paths at a party, a Cape Town t...</td>\n",
       "      <td>Ama Qamata</td>\n",
       "      <td>South Africa</td>\n",
       "      <td>International TV Shows</td>\n",
       "      <td>9</td>\n",
       "    </tr>\n",
       "    <tr>\n",
       "      <th>2</th>\n",
       "      <td>s2</td>\n",
       "      <td>TV Show</td>\n",
       "      <td>Blood &amp; Water</td>\n",
       "      <td>Unknown director</td>\n",
       "      <td>2021-09-24</td>\n",
       "      <td>2021</td>\n",
       "      <td>TV-MA</td>\n",
       "      <td>2.0</td>\n",
       "      <td>After crossing paths at a party, a Cape Town t...</td>\n",
       "      <td>Ama Qamata</td>\n",
       "      <td>South Africa</td>\n",
       "      <td>TV Dramas</td>\n",
       "      <td>9</td>\n",
       "    </tr>\n",
       "    <tr>\n",
       "      <th>3</th>\n",
       "      <td>s2</td>\n",
       "      <td>TV Show</td>\n",
       "      <td>Blood &amp; Water</td>\n",
       "      <td>Unknown director</td>\n",
       "      <td>2021-09-24</td>\n",
       "      <td>2021</td>\n",
       "      <td>TV-MA</td>\n",
       "      <td>2.0</td>\n",
       "      <td>After crossing paths at a party, a Cape Town t...</td>\n",
       "      <td>Ama Qamata</td>\n",
       "      <td>South Africa</td>\n",
       "      <td>TV Mysteries</td>\n",
       "      <td>9</td>\n",
       "    </tr>\n",
       "    <tr>\n",
       "      <th>4</th>\n",
       "      <td>s2</td>\n",
       "      <td>TV Show</td>\n",
       "      <td>Blood &amp; Water</td>\n",
       "      <td>Unknown director</td>\n",
       "      <td>2021-09-24</td>\n",
       "      <td>2021</td>\n",
       "      <td>TV-MA</td>\n",
       "      <td>2.0</td>\n",
       "      <td>After crossing paths at a party, a Cape Town t...</td>\n",
       "      <td>Khosi Ngema</td>\n",
       "      <td>South Africa</td>\n",
       "      <td>International TV Shows</td>\n",
       "      <td>9</td>\n",
       "    </tr>\n",
       "    <tr>\n",
       "      <th>5</th>\n",
       "      <td>s2</td>\n",
       "      <td>TV Show</td>\n",
       "      <td>Blood &amp; Water</td>\n",
       "      <td>Unknown director</td>\n",
       "      <td>2021-09-24</td>\n",
       "      <td>2021</td>\n",
       "      <td>TV-MA</td>\n",
       "      <td>2.0</td>\n",
       "      <td>After crossing paths at a party, a Cape Town t...</td>\n",
       "      <td>Khosi Ngema</td>\n",
       "      <td>South Africa</td>\n",
       "      <td>TV Dramas</td>\n",
       "      <td>9</td>\n",
       "    </tr>\n",
       "  </tbody>\n",
       "</table>\n",
       "</div>"
      ],
      "text/plain": [
       "  show_id     type          title          director date_added  release_year  \\\n",
       "1      s2  TV Show  Blood & Water  Unknown director 2021-09-24          2021   \n",
       "2      s2  TV Show  Blood & Water  Unknown director 2021-09-24          2021   \n",
       "3      s2  TV Show  Blood & Water  Unknown director 2021-09-24          2021   \n",
       "4      s2  TV Show  Blood & Water  Unknown director 2021-09-24          2021   \n",
       "5      s2  TV Show  Blood & Water  Unknown director 2021-09-24          2021   \n",
       "\n",
       "  rating  duration                                        description  \\\n",
       "1  TV-MA       2.0  After crossing paths at a party, a Cape Town t...   \n",
       "2  TV-MA       2.0  After crossing paths at a party, a Cape Town t...   \n",
       "3  TV-MA       2.0  After crossing paths at a party, a Cape Town t...   \n",
       "4  TV-MA       2.0  After crossing paths at a party, a Cape Town t...   \n",
       "5  TV-MA       2.0  After crossing paths at a party, a Cape Town t...   \n",
       "\n",
       "           cast       country               listed_in  month_added  \n",
       "1    Ama Qamata  South Africa  International TV Shows            9  \n",
       "2    Ama Qamata  South Africa               TV Dramas            9  \n",
       "3    Ama Qamata  South Africa            TV Mysteries            9  \n",
       "4   Khosi Ngema  South Africa  International TV Shows            9  \n",
       "5   Khosi Ngema  South Africa               TV Dramas            9  "
      ]
     },
     "execution_count": 337,
     "metadata": {},
     "output_type": "execute_result"
    }
   ],
   "source": [
    "tv_shows_df.head()"
   ]
  },
  {
   "cell_type": "code",
   "execution_count": 338,
   "id": "8ebedee5",
   "metadata": {},
   "outputs": [
    {
     "data": {
      "text/html": [
       "<div>\n",
       "<style scoped>\n",
       "    .dataframe tbody tr th:only-of-type {\n",
       "        vertical-align: middle;\n",
       "    }\n",
       "\n",
       "    .dataframe tbody tr th {\n",
       "        vertical-align: top;\n",
       "    }\n",
       "\n",
       "    .dataframe thead th {\n",
       "        text-align: right;\n",
       "    }\n",
       "</style>\n",
       "<table border=\"1\" class=\"dataframe\">\n",
       "  <thead>\n",
       "    <tr style=\"text-align: right;\">\n",
       "      <th></th>\n",
       "      <th>month_added</th>\n",
       "      <th>No of TV Shows</th>\n",
       "    </tr>\n",
       "  </thead>\n",
       "  <tbody>\n",
       "    <tr>\n",
       "      <th>11</th>\n",
       "      <td>12</td>\n",
       "      <td>265</td>\n",
       "    </tr>\n",
       "    <tr>\n",
       "      <th>6</th>\n",
       "      <td>7</td>\n",
       "      <td>262</td>\n",
       "    </tr>\n",
       "    <tr>\n",
       "      <th>8</th>\n",
       "      <td>9</td>\n",
       "      <td>251</td>\n",
       "    </tr>\n",
       "    <tr>\n",
       "      <th>5</th>\n",
       "      <td>6</td>\n",
       "      <td>236</td>\n",
       "    </tr>\n",
       "    <tr>\n",
       "      <th>7</th>\n",
       "      <td>8</td>\n",
       "      <td>236</td>\n",
       "    </tr>\n",
       "    <tr>\n",
       "      <th>9</th>\n",
       "      <td>10</td>\n",
       "      <td>215</td>\n",
       "    </tr>\n",
       "    <tr>\n",
       "      <th>3</th>\n",
       "      <td>4</td>\n",
       "      <td>214</td>\n",
       "    </tr>\n",
       "    <tr>\n",
       "      <th>2</th>\n",
       "      <td>3</td>\n",
       "      <td>213</td>\n",
       "    </tr>\n",
       "    <tr>\n",
       "      <th>10</th>\n",
       "      <td>11</td>\n",
       "      <td>207</td>\n",
       "    </tr>\n",
       "    <tr>\n",
       "      <th>4</th>\n",
       "      <td>5</td>\n",
       "      <td>193</td>\n",
       "    </tr>\n",
       "    <tr>\n",
       "      <th>0</th>\n",
       "      <td>1</td>\n",
       "      <td>192</td>\n",
       "    </tr>\n",
       "    <tr>\n",
       "      <th>1</th>\n",
       "      <td>2</td>\n",
       "      <td>180</td>\n",
       "    </tr>\n",
       "  </tbody>\n",
       "</table>\n",
       "</div>"
      ],
      "text/plain": [
       "    month_added  No of TV Shows\n",
       "11           12             265\n",
       "6             7             262\n",
       "8             9             251\n",
       "5             6             236\n",
       "7             8             236\n",
       "9            10             215\n",
       "3             4             214\n",
       "2             3             213\n",
       "10           11             207\n",
       "4             5             193\n",
       "0             1             192\n",
       "1             2             180"
      ]
     },
     "execution_count": 338,
     "metadata": {},
     "output_type": "execute_result"
    }
   ],
   "source": [
    "shows_month = tv_shows_df.groupby('month_added')['title'].nunique().reset_index(name='No of TV Shows')\n",
    "shows_month.sort_values('No of TV Shows', ascending=False)"
   ]
  },
  {
   "cell_type": "markdown",
   "id": "7a8e5ca9",
   "metadata": {},
   "source": [
    "Best month to launch tv shows on netflix is December followed by july and september"
   ]
  },
  {
   "cell_type": "markdown",
   "id": "f5bd9404",
   "metadata": {},
   "source": [
    "## Actors and Directors with most number of movie & shows"
   ]
  },
  {
   "cell_type": "code",
   "execution_count": 339,
   "id": "70fd3aa4",
   "metadata": {},
   "outputs": [
    {
     "data": {
      "text/html": [
       "<div>\n",
       "<style scoped>\n",
       "    .dataframe tbody tr th:only-of-type {\n",
       "        vertical-align: middle;\n",
       "    }\n",
       "\n",
       "    .dataframe tbody tr th {\n",
       "        vertical-align: top;\n",
       "    }\n",
       "\n",
       "    .dataframe thead th {\n",
       "        text-align: right;\n",
       "    }\n",
       "</style>\n",
       "<table border=\"1\" class=\"dataframe\">\n",
       "  <thead>\n",
       "    <tr style=\"text-align: right;\">\n",
       "      <th></th>\n",
       "      <th>cast</th>\n",
       "      <th>count</th>\n",
       "    </tr>\n",
       "  </thead>\n",
       "  <tbody>\n",
       "    <tr>\n",
       "      <th>2605</th>\n",
       "      <td>Anupam Kher</td>\n",
       "      <td>39</td>\n",
       "    </tr>\n",
       "    <tr>\n",
       "      <th>26903</th>\n",
       "      <td>Rupa Bhimani</td>\n",
       "      <td>31</td>\n",
       "    </tr>\n",
       "    <tr>\n",
       "      <th>30263</th>\n",
       "      <td>Takahiro Sakurai</td>\n",
       "      <td>30</td>\n",
       "    </tr>\n",
       "    <tr>\n",
       "      <th>15518</th>\n",
       "      <td>Julie Tejwani</td>\n",
       "      <td>28</td>\n",
       "    </tr>\n",
       "    <tr>\n",
       "      <th>23591</th>\n",
       "      <td>Om Puri</td>\n",
       "      <td>27</td>\n",
       "    </tr>\n",
       "  </tbody>\n",
       "</table>\n",
       "</div>"
      ],
      "text/plain": [
       "                    cast  count\n",
       "2605         Anupam Kher     39\n",
       "26903       Rupa Bhimani     31\n",
       "30263   Takahiro Sakurai     30\n",
       "15518      Julie Tejwani     28\n",
       "23591            Om Puri     27"
      ]
     },
     "execution_count": 339,
     "metadata": {},
     "output_type": "execute_result"
    }
   ],
   "source": [
    "actors = data.groupby('cast')['title'].nunique().reset_index(name = 'count')\n",
    "actors = actors.sort_values('count', ascending = False)\n",
    "actors = actors.drop(38935) #dropping the row with unknown actor\n",
    "actors.head()"
   ]
  },
  {
   "cell_type": "markdown",
   "id": "9d757754",
   "metadata": {},
   "source": [
    "Top 5 actors with most number of movies and tv shows."
   ]
  },
  {
   "cell_type": "code",
   "execution_count": 340,
   "id": "f5d7649c",
   "metadata": {},
   "outputs": [
    {
     "data": {
      "text/html": [
       "<div>\n",
       "<style scoped>\n",
       "    .dataframe tbody tr th:only-of-type {\n",
       "        vertical-align: middle;\n",
       "    }\n",
       "\n",
       "    .dataframe tbody tr th {\n",
       "        vertical-align: top;\n",
       "    }\n",
       "\n",
       "    .dataframe thead th {\n",
       "        text-align: right;\n",
       "    }\n",
       "</style>\n",
       "<table border=\"1\" class=\"dataframe\">\n",
       "  <thead>\n",
       "    <tr style=\"text-align: right;\">\n",
       "      <th></th>\n",
       "      <th>director</th>\n",
       "      <th>count</th>\n",
       "    </tr>\n",
       "  </thead>\n",
       "  <tbody>\n",
       "    <tr>\n",
       "      <th>3390</th>\n",
       "      <td>Rajiv Chilaka</td>\n",
       "      <td>19</td>\n",
       "    </tr>\n",
       "    <tr>\n",
       "      <th>3441</th>\n",
       "      <td>Raúl Campos, Jan Suter</td>\n",
       "      <td>18</td>\n",
       "    </tr>\n",
       "    <tr>\n",
       "      <th>2596</th>\n",
       "      <td>Marcus Raboy</td>\n",
       "      <td>16</td>\n",
       "    </tr>\n",
       "    <tr>\n",
       "      <th>4044</th>\n",
       "      <td>Suhas Kadav</td>\n",
       "      <td>16</td>\n",
       "    </tr>\n",
       "    <tr>\n",
       "      <th>1789</th>\n",
       "      <td>Jay Karas</td>\n",
       "      <td>14</td>\n",
       "    </tr>\n",
       "  </tbody>\n",
       "</table>\n",
       "</div>"
      ],
      "text/plain": [
       "                    director  count\n",
       "3390           Rajiv Chilaka     19\n",
       "3441  Raúl Campos, Jan Suter     18\n",
       "2596            Marcus Raboy     16\n",
       "4044             Suhas Kadav     16\n",
       "1789               Jay Karas     14"
      ]
     },
     "execution_count": 340,
     "metadata": {},
     "output_type": "execute_result"
    }
   ],
   "source": [
    "directors = data.groupby('director')['title'].nunique().reset_index(name = 'count')\n",
    "directors = directors.sort_values('count', ascending = False)\n",
    "directors = directors.drop(4301) #dropping the row with unknown director\n",
    "directors.head()"
   ]
  },
  {
   "cell_type": "markdown",
   "id": "3cd2917c",
   "metadata": {},
   "source": [
    "Top 5 directors with most number of movies and tv shows."
   ]
  },
  {
   "cell_type": "code",
   "execution_count": 341,
   "id": "adbf976b",
   "metadata": {},
   "outputs": [
    {
     "name": "stderr",
     "output_type": "stream",
     "text": [
      "C:\\Users\\Shubham Yeole\\AppData\\Local\\Temp\\ipykernel_19308\\207067128.py:1: SettingWithCopyWarning: \n",
      "A value is trying to be set on a copy of a slice from a DataFrame.\n",
      "Try using .loc[row_indexer,col_indexer] = value instead\n",
      "\n",
      "See the caveats in the documentation: https://pandas.pydata.org/pandas-docs/stable/user_guide/indexing.html#returning-a-view-versus-a-copy\n",
      "  data['year_added'] = data['date_added'].dt.year\n"
     ]
    }
   ],
   "source": [
    "data['year_added'] = data['date_added'].dt.year"
   ]
  },
  {
   "cell_type": "code",
   "execution_count": 342,
   "id": "4dbbbfa2",
   "metadata": {},
   "outputs": [
    {
     "data": {
      "text/html": [
       "<div>\n",
       "<style scoped>\n",
       "    .dataframe tbody tr th:only-of-type {\n",
       "        vertical-align: middle;\n",
       "    }\n",
       "\n",
       "    .dataframe tbody tr th {\n",
       "        vertical-align: top;\n",
       "    }\n",
       "\n",
       "    .dataframe thead th {\n",
       "        text-align: right;\n",
       "    }\n",
       "</style>\n",
       "<table border=\"1\" class=\"dataframe\">\n",
       "  <thead>\n",
       "    <tr style=\"text-align: right;\">\n",
       "      <th></th>\n",
       "      <th>release_year</th>\n",
       "      <th>duration</th>\n",
       "      <th>year_added</th>\n",
       "    </tr>\n",
       "  </thead>\n",
       "  <tbody>\n",
       "    <tr>\n",
       "      <th>release_year</th>\n",
       "      <td>1.000000</td>\n",
       "      <td>-0.309229</td>\n",
       "      <td>0.045932</td>\n",
       "    </tr>\n",
       "    <tr>\n",
       "      <th>duration</th>\n",
       "      <td>-0.309229</td>\n",
       "      <td>1.000000</td>\n",
       "      <td>0.034160</td>\n",
       "    </tr>\n",
       "    <tr>\n",
       "      <th>year_added</th>\n",
       "      <td>0.045932</td>\n",
       "      <td>0.034160</td>\n",
       "      <td>1.000000</td>\n",
       "    </tr>\n",
       "  </tbody>\n",
       "</table>\n",
       "</div>"
      ],
      "text/plain": [
       "              release_year  duration  year_added\n",
       "release_year      1.000000 -0.309229    0.045932\n",
       "duration         -0.309229  1.000000    0.034160\n",
       "year_added        0.045932  0.034160    1.000000"
      ]
     },
     "execution_count": 342,
     "metadata": {},
     "output_type": "execute_result"
    }
   ],
   "source": [
    "corr_matrix = data[['release_year', 'duration', 'year_added']].corr()\n",
    "corr_matrix"
   ]
  },
  {
   "cell_type": "code",
   "execution_count": 343,
   "id": "46781980",
   "metadata": {},
   "outputs": [
    {
     "data": {
      "image/png": "[encoded data removed]",
      "text/plain": [
       "<Figure size 640x480 with 2 Axes>"
      ]
     },
     "metadata": {},
     "output_type": "display_data"
    }
   ],
   "source": [
    "sns.heatmap(data=corr_matrix, cmap='Blues', annot=True)\n",
    "plt.title(\"Correlation matrix for release_year, duration and year_added\")\n",
    "plt.show()"
   ]
  },
  {
   "cell_type": "markdown",
   "id": "34120ffd",
   "metadata": {},
   "source": [
    "We can infer that there's moderate negative correlation between duration and release_year,\n",
    "also there's weak positive correlation between release_year and year_added."
   ]
  },
  {
   "cell_type": "markdown",
   "id": "6187325a",
   "metadata": {},
   "source": [
    "## Content addition Time after release date"
   ]
  },
  {
   "cell_type": "code",
   "execution_count": 344,
   "id": "54cc985b",
   "metadata": {},
   "outputs": [
    {
     "name": "stderr",
     "output_type": "stream",
     "text": [
      "C:\\Users\\Shubham Yeole\\AppData\\Local\\Temp\\ipykernel_19308\\2959066914.py:1: SettingWithCopyWarning: \n",
      "A value is trying to be set on a copy of a slice from a DataFrame.\n",
      "Try using .loc[row_indexer,col_indexer] = value instead\n",
      "\n",
      "See the caveats in the documentation: https://pandas.pydata.org/pandas-docs/stable/user_guide/indexing.html#returning-a-view-versus-a-copy\n",
      "  data['days_to_addition'] = (data['date_added'] - pd.to_datetime(data['release_year'], format=\"%Y\")).dt.days\n"
     ]
    }
   ],
   "source": [
    "data['days_to_addition'] = (data['date_added'] - pd.to_datetime(data['release_year'], format=\"%Y\")).dt.days"
   ]
  },
  {
   "cell_type": "code",
   "execution_count": 345,
   "id": "6f543048",
   "metadata": {},
   "outputs": [
    {
     "data": {
      "text/html": [
       "<div>\n",
       "<style scoped>\n",
       "    .dataframe tbody tr th:only-of-type {\n",
       "        vertical-align: middle;\n",
       "    }\n",
       "\n",
       "    .dataframe tbody tr th {\n",
       "        vertical-align: top;\n",
       "    }\n",
       "\n",
       "    .dataframe thead th {\n",
       "        text-align: right;\n",
       "    }\n",
       "</style>\n",
       "<table border=\"1\" class=\"dataframe\">\n",
       "  <thead>\n",
       "    <tr style=\"text-align: right;\">\n",
       "      <th></th>\n",
       "      <th>show_id</th>\n",
       "      <th>type</th>\n",
       "      <th>title</th>\n",
       "      <th>director</th>\n",
       "      <th>date_added</th>\n",
       "      <th>release_year</th>\n",
       "      <th>rating</th>\n",
       "      <th>duration</th>\n",
       "      <th>description</th>\n",
       "      <th>cast</th>\n",
       "      <th>country</th>\n",
       "      <th>listed_in</th>\n",
       "      <th>year_added</th>\n",
       "      <th>days_to_addition</th>\n",
       "    </tr>\n",
       "  </thead>\n",
       "  <tbody>\n",
       "    <tr>\n",
       "      <th>0</th>\n",
       "      <td>s1</td>\n",
       "      <td>Movie</td>\n",
       "      <td>Dick Johnson Is Dead</td>\n",
       "      <td>Kirsten Johnson</td>\n",
       "      <td>2021-09-25</td>\n",
       "      <td>2020</td>\n",
       "      <td>PG-13</td>\n",
       "      <td>90.0</td>\n",
       "      <td>As her father nears the end of his life, filmm...</td>\n",
       "      <td>Unknown actor</td>\n",
       "      <td>United States</td>\n",
       "      <td>Documentaries</td>\n",
       "      <td>2021</td>\n",
       "      <td>633</td>\n",
       "    </tr>\n",
       "    <tr>\n",
       "      <th>1</th>\n",
       "      <td>s2</td>\n",
       "      <td>TV Show</td>\n",
       "      <td>Blood &amp; Water</td>\n",
       "      <td>Unknown director</td>\n",
       "      <td>2021-09-24</td>\n",
       "      <td>2021</td>\n",
       "      <td>TV-MA</td>\n",
       "      <td>2.0</td>\n",
       "      <td>After crossing paths at a party, a Cape Town t...</td>\n",
       "      <td>Ama Qamata</td>\n",
       "      <td>South Africa</td>\n",
       "      <td>International TV Shows</td>\n",
       "      <td>2021</td>\n",
       "      <td>266</td>\n",
       "    </tr>\n",
       "    <tr>\n",
       "      <th>2</th>\n",
       "      <td>s2</td>\n",
       "      <td>TV Show</td>\n",
       "      <td>Blood &amp; Water</td>\n",
       "      <td>Unknown director</td>\n",
       "      <td>2021-09-24</td>\n",
       "      <td>2021</td>\n",
       "      <td>TV-MA</td>\n",
       "      <td>2.0</td>\n",
       "      <td>After crossing paths at a party, a Cape Town t...</td>\n",
       "      <td>Ama Qamata</td>\n",
       "      <td>South Africa</td>\n",
       "      <td>TV Dramas</td>\n",
       "      <td>2021</td>\n",
       "      <td>266</td>\n",
       "    </tr>\n",
       "    <tr>\n",
       "      <th>3</th>\n",
       "      <td>s2</td>\n",
       "      <td>TV Show</td>\n",
       "      <td>Blood &amp; Water</td>\n",
       "      <td>Unknown director</td>\n",
       "      <td>2021-09-24</td>\n",
       "      <td>2021</td>\n",
       "      <td>TV-MA</td>\n",
       "      <td>2.0</td>\n",
       "      <td>After crossing paths at a party, a Cape Town t...</td>\n",
       "      <td>Ama Qamata</td>\n",
       "      <td>South Africa</td>\n",
       "      <td>TV Mysteries</td>\n",
       "      <td>2021</td>\n",
       "      <td>266</td>\n",
       "    </tr>\n",
       "    <tr>\n",
       "      <th>4</th>\n",
       "      <td>s2</td>\n",
       "      <td>TV Show</td>\n",
       "      <td>Blood &amp; Water</td>\n",
       "      <td>Unknown director</td>\n",
       "      <td>2021-09-24</td>\n",
       "      <td>2021</td>\n",
       "      <td>TV-MA</td>\n",
       "      <td>2.0</td>\n",
       "      <td>After crossing paths at a party, a Cape Town t...</td>\n",
       "      <td>Khosi Ngema</td>\n",
       "      <td>South Africa</td>\n",
       "      <td>International TV Shows</td>\n",
       "      <td>2021</td>\n",
       "      <td>266</td>\n",
       "    </tr>\n",
       "  </tbody>\n",
       "</table>\n",
       "</div>"
      ],
      "text/plain": [
       "  show_id     type                 title          director date_added  \\\n",
       "0      s1    Movie  Dick Johnson Is Dead   Kirsten Johnson 2021-09-25   \n",
       "1      s2  TV Show         Blood & Water  Unknown director 2021-09-24   \n",
       "2      s2  TV Show         Blood & Water  Unknown director 2021-09-24   \n",
       "3      s2  TV Show         Blood & Water  Unknown director 2021-09-24   \n",
       "4      s2  TV Show         Blood & Water  Unknown director 2021-09-24   \n",
       "\n",
       "   release_year rating  duration  \\\n",
       "0          2020  PG-13      90.0   \n",
       "1          2021  TV-MA       2.0   \n",
       "2          2021  TV-MA       2.0   \n",
       "3          2021  TV-MA       2.0   \n",
       "4          2021  TV-MA       2.0   \n",
       "\n",
       "                                         description           cast  \\\n",
       "0  As her father nears the end of his life, filmm...  Unknown actor   \n",
       "1  After crossing paths at a party, a Cape Town t...     Ama Qamata   \n",
       "2  After crossing paths at a party, a Cape Town t...     Ama Qamata   \n",
       "3  After crossing paths at a party, a Cape Town t...     Ama Qamata   \n",
       "4  After crossing paths at a party, a Cape Town t...    Khosi Ngema   \n",
       "\n",
       "         country               listed_in  year_added  days_to_addition  \n",
       "0  United States           Documentaries        2021               633  \n",
       "1   South Africa  International TV Shows        2021               266  \n",
       "2   South Africa               TV Dramas        2021               266  \n",
       "3   South Africa            TV Mysteries        2021               266  \n",
       "4   South Africa  International TV Shows        2021               266  "
      ]
     },
     "execution_count": 345,
     "metadata": {},
     "output_type": "execute_result"
    }
   ],
   "source": [
    "data.head()"
   ]
  },
  {
   "cell_type": "code",
   "execution_count": 346,
   "id": "2f1fbbfb",
   "metadata": {},
   "outputs": [
    {
     "data": {
      "text/plain": [
       "243"
      ]
     },
     "execution_count": 346,
     "metadata": {},
     "output_type": "execute_result"
    }
   ],
   "source": [
    "data['days_to_addition'].mode().values[0]"
   ]
  },
  {
   "cell_type": "markdown",
   "id": "a0172f4f",
   "metadata": {},
   "source": [
    "The most frequent time to add content to netflix after release is 243 days"
   ]
  },
  {
   "cell_type": "markdown",
   "id": "5dfcbda4",
   "metadata": {},
   "source": [
    "# Buisness Insights\n"
   ]
  },
  {
   "cell_type": "markdown",
   "id": "67eb0a5e",
   "metadata": {},
   "source": [
    "\n",
    "1. **Content Landscape:**\n",
    "   - The dataset contains 6,126 movies and 2,664 TV shows. The majority of movies have a rating of \"TV-MA,\" while \"UR\" and \"NC-17\" have the fewest. For TV shows, \"TV-MA\" is the most common rating, and \"TV-Y7-FV\" is the least common.\n",
    "   \n",
    "\n",
    "2. **Top Countries for Content:**\n",
    "   - The United States, India, and the United Kingdom are the top countries for both movies and TV shows. \n",
    "   \n",
    "\n",
    "3. **Production Trends:**\n",
    "   - The popularity of TV show productions increased after 2005, even during the pandemic. This suggests a growing trend in TV show consumption.\n",
    "   \n",
    "\n",
    "4. **Average Durations:**\n",
    "   - The average duration for movies is 107.5 minutes, while for TV shows, it is 1.9 seasons. This insight can guide content creators in planning and producing content of appropriate lengths.\n",
    "   \n",
    "\n",
    "5. **Genre Popularity:**\n",
    "   - \"International Movies\" is the most popular genre, indicating a diverse content library. However, \"Classic & Cult TV\" is the least popular, suggesting a potential gap in content offerings.\n",
    "   \n",
    "\n",
    "6. **Optimal Timing for Additions:**\n",
    "   - The dataset suggests that 1, 44, 40 weeks of the year are optimal for adding movies to Netflix. Understanding these peak periods can help in planning content releases for maximum impact.\n",
    "   \n",
    "\n",
    "7. **Best Month for TV Show Launch:**\n",
    "   - December is the best month to launch TV shows, followed by July and September. This information can guide content release schedules to maximize viewer engagement.\n",
    "   \n",
    "\n",
    "8. **Top Actors and Directors:**\n",
    "   - Anupam Kher, Rupa Bhimani, and Takahiro Sakurai are among the top actors, while Rajiv Chilaka and Raúl Campos are prominent directors. Collaborating with these talents may attract viewers based on their popularity.\n",
    "   \n",
    "\n",
    "9. **Correlation Insights:**\n",
    "   - There's a moderate negative correlation between the duration of content and its release year. This suggests a potential shift towards shorter content over the years.\n",
    "   - There's a weak positive correlation between the release year and the year it is added to Netflix, indicating a slight trend of adding older content.\n",
    "   \n",
    "\n",
    "10. **Optimal Time to Add Content:**\n",
    "    - The most frequent time to add content to Netflix after its release is 243 days. This information can be useful for planning content additions and marketing strategies."
   ]
  },
  {
   "cell_type": "markdown",
   "id": "73b7f90f",
   "metadata": {},
   "source": [
    "# Recommendations:"
   ]
  },
  {
   "cell_type": "markdown",
   "id": "d93c1b24",
   "metadata": {},
   "source": [
    "1. **Diversify Content Origin:**\n",
    "   - Considering the popularity of content from the United States, India, and the United Kingdom, diversifying content origin can attract a global audience.\n",
    "\n",
    "2. **Emphasize TV Show Productions:**\n",
    "   - Given the increasing popularity of TV show productions, allocate resources and efforts towards creating engaging TV show content.\n",
    "\n",
    "3. **Explore Different Genres:**\n",
    "   - While \"International Movies\" are popular, exploring other genres, especially \"Classic & Cult TV,\" can fill potential content gaps.\n",
    "\n",
    "4. **Strategic Release Planning:**\n",
    "   - Plan movie releases during peak weeks identified in the dataset for maximum visibility and audience engagement.\n",
    "\n",
    "5. **Strategic TV Show Launches:**\n",
    "   - Leverage the popularity of December, July, and September for launching TV shows to capture the audience's attention.\n",
    "\n",
    "6. **Collaborate with Top Actors and Directors:**\n",
    "   - Collaborating with top actors like Anupam Kher and directors like Rajiv Chilaka can enhance the attractiveness of the content.\n",
    "\n",
    "7. **Optimize Content Duration:**\n",
    "   - Considering the negative correlation between duration and release year, optimize content duration to align with viewer preferences.\n",
    "\n",
    "8. **Explore Older Content:**\n",
    "   - Given the weak positive correlation between release year and the year added to Netflix, exploring and adding older content can contribute to the library's richness.\n",
    "\n",
    "9. **Regularly Update Content:**\n",
    "   - Consistently adding content approximately 243 days after release can maintain a fresh and updated library for subscribers.\n",
    "\n",
    "10. **Viewer Engagement Strategies:**\n",
    "    - Implement strategies to engage viewers during peak periods, such as targeted marketing campaigns and promotions.\n",
    "\n",
    "    - These recommendations aim to capitalize on observed patterns, enhance content diversity, and optimize content strategies for a more engaging viewer experience."
   ]
  },
  {
   "cell_type": "code",
   "execution_count": null,
   "id": "31cbe9ce",
   "metadata": {},
   "outputs": [],
   "source": []
  }
 ],
 "metadata": {
  "kernelspec": {
   "display_name": "Python 3 (ipykernel)",
   "language": "python",
   "name": "python3"
  },
  "language_info": {
   "codemirror_mode": {
    "name": "ipython",
    "version": 3
   },
   "file_extension": ".py",
   "mimetype": "text/x-python",
   "name": "python",
   "nbconvert_exporter": "python",
   "pygments_lexer": "ipython3",
   "version": "3.11.5"
  }
 },
 "nbformat": 4,
 "nbformat_minor": 5
}
